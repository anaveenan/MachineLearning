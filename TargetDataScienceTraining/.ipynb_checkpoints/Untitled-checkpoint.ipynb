{
 "cells": [
  {
   "cell_type": "markdown",
   "metadata": {},
   "source": [
    "# Exercise 1.1"
   ]
  },
  {
   "cell_type": "markdown",
   "metadata": {},
   "source": [
    "Given function f(x)= x^3 - 12x + 1 approximate the curve at (-1, f(-1)) in the x range of [-3, 3] using the tangent to (-1, f(-1)) [also know as the first order Taylor approximation]"
   ]
  },
  {
   "cell_type": "markdown",
   "metadata": {
    "collapsed": true
   },
   "source": [
    "* f(x) = x^3 - 12x + 1\n",
    "* f'(x) = 3x^2 - 12\n",
    "* f'(-1) = 3(-1)^2 - 12 \n",
    "       = 3(1) - 12\n",
    "       = 3 - 12\n",
    "       = 9\n",
    "* f'(-1) = 9\n",
    "\n",
    "* 0=9x+b\n",
    "* b = -9, so line is y=9x-9\n",
    "* At x=-1, y=9(-1) - 9 = -18"
   ]
  },
  {
   "cell_type": "markdown",
   "metadata": {},
   "source": [
    "In R, plot the curves f(x), f’(x) and the tangent approximation  and label appropriately"
   ]
  },
  {
   "cell_type": "code",
   "execution_count": null,
   "metadata": {
    "collapsed": false
   },
   "outputs": [],
   "source": [
    "from numpy import *\n",
    "import math\n",
    "import matplotlib.pyplot as plt\n",
    "\n",
    "x = linspace(-3,3)\n",
    "a = x**3 - 12*x + 1\n",
    "b = 9*x + 8\n",
    "plt.plot(x,a,'r')\n",
    "plt.plot(x,b,'r')\n",
    "plt.show()"
   ]
  },
  {
   "cell_type": "markdown",
   "metadata": {},
   "source": [
    "Add text and arrows to highlight (-1,f(-1)) and its tangent line"
   ]
  },
  {
   "cell_type": "code",
   "execution_count": null,
   "metadata": {
    "collapsed": true
   },
   "outputs": [],
   "source": []
  },
  {
   "cell_type": "markdown",
   "metadata": {},
   "source": [
    "Comment on the approximation of f(x) at x = -3  fTangent (x= -3 )"
   ]
  },
  {
   "cell_type": "code",
   "execution_count": null,
   "metadata": {
    "collapsed": true
   },
   "outputs": [],
   "source": []
  },
  {
   "cell_type": "markdown",
   "metadata": {},
   "source": [
    "# Exercise 1.2"
   ]
  },
  {
   "cell_type": "markdown",
   "metadata": {},
   "source": [
    "Find the zeros of the function x^3+2*x-4, 1 in the interval c(0.5, 1.5) starting with an initial guess of 1.4 using the Newton- Raphson method."
   ]
  },
  {
   "cell_type": "code",
   "execution_count": 1,
   "metadata": {
    "collapsed": false
   },
   "outputs": [
    {
     "name": "stdout",
     "output_type": "stream",
     "text": [
      "1 1.15096774194\n",
      "2 1.18275755388\n",
      "3 1.17913608418\n",
      "4 1.17955179118\n",
      "5 1.17950411976\n",
      "6 1.17950958712\n",
      "7 1.17950896009\n",
      "8 1.179509032\n",
      "9 1.17950902375\n",
      "10 1.1795090247\n",
      "11 1.17950902459\n",
      "12 1.1795090246\n",
      "13 1.1795090246\n",
      "14 1.1795090246\n",
      "15 1.1795090246\n",
      "16 1.1795090246\n",
      "17 1.1795090246\n",
      "18 1.1795090246\n"
     ]
    }
   ],
   "source": [
    "def f(x):\n",
    "    return x**3 + 2*x - 4\n",
    "def f2(x):\n",
    "    return 3*x + 2\n",
    "\n",
    "def nr_meth (init):\n",
    "    nr = init\n",
    "    i = 0\n",
    "    cnt = 0\n",
    "    while i != nr:\n",
    "        i = nr\n",
    "        cnt += 1\n",
    "        n = f(nr)*1.0\n",
    "        d = f2(nr)*1.0\n",
    "        nr = -1.0* (n/d) + nr\n",
    "        print cnt, nr\n",
    "\n",
    "nr_meth(1.4)"
   ]
  },
  {
   "cell_type": "markdown",
   "metadata": {},
   "source": [
    "Plot the progress of the algorithm"
   ]
  },
  {
   "cell_type": "code",
   "execution_count": null,
   "metadata": {
    "collapsed": true
   },
   "outputs": [],
   "source": []
  },
  {
   "cell_type": "markdown",
   "metadata": {},
   "source": [
    "Comment on the convergence"
   ]
  },
  {
   "cell_type": "code",
   "execution_count": null,
   "metadata": {
    "collapsed": true
   },
   "outputs": [],
   "source": []
  },
  {
   "cell_type": "markdown",
   "metadata": {},
   "source": [
    "HINT: you can use a publicly available function: newton.method(function(x) x^3+2*x-4, 1, c(0.5, 1.5)) but for an extra little challenge please code your own Newton.Rapshon method and plot the progress"
   ]
  },
  {
   "cell_type": "code",
   "execution_count": null,
   "metadata": {
    "collapsed": true
   },
   "outputs": [],
   "source": []
  },
  {
   "cell_type": "markdown",
   "metadata": {},
   "source": [
    "# Exercise 1.3"
   ]
  },
  {
   "cell_type": "markdown",
   "metadata": {},
   "source": [
    "Taking x1 =1, and using two iterations,obtain an approximation to\n",
    "a root of theequation. x3+3x2-x-2 bythe Newton-Raphson method."
   ]
  },
  {
   "cell_type": "code",
   "execution_count": null,
   "metadata": {
    "collapsed": true
   },
   "outputs": [],
   "source": []
  }
 ],
 "metadata": {
  "kernelspec": {
   "display_name": "Python 2",
   "language": "python",
   "name": "python2"
  },
  "language_info": {
   "codemirror_mode": {
    "name": "ipython",
    "version": 2
   },
   "file_extension": ".py",
   "mimetype": "text/x-python",
   "name": "python",
   "nbconvert_exporter": "python",
   "pygments_lexer": "ipython2",
   "version": "2.7.11"
  }
 },
 "nbformat": 4,
 "nbformat_minor": 0
}
