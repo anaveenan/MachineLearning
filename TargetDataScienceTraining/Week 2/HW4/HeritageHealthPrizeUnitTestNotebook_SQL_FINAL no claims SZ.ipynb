{
 "cells": [
  {
   "cell_type": "markdown",
   "metadata": {},
   "source": [
    "# Machine Learning at Scale\n",
    "Dr. James G. Shanahan and Marguerite Oneto, with assistance from Kasane Utsumi   \n",
    "&copy; copyright July 2016\n",
    "\n",
    "\n",
    "# The Heritage Health Prize Challenge Using Spark SQL\n",
    "\n",
    "### Improve Healthcare, Win \\$3,000,000.  Identify patients who will be admitted to a hospital within the next year using historical claims data.\n",
    "\n",
    "This notebook uses [Spark SQL](https://spark.apache.org/docs/latest/sql-programming-guide.html), [DataFrames](https://spark.apache.org/docs/latest/api/python/pyspark.sql.html#pyspark.sql.DataFrame), and [Pipelines](https://spark.apache.org/docs/latest/ml-guide.html) to build a basic pipeline for modeling outcomes using the Heritage Health Prize dataset.\n",
    "\n",
    "The notebook is organized as follows:  \n",
    "\n",
    "1.  **Introduction**\n",
    "2.  **Set Up Spark**\n",
    "3.  **ETL**\n",
    "4.  **Feature Engineering**\n",
    "5.  **Modeling, Evaluation, and Tuning**\n",
    "6.  **Results**\n",
    "7.  **Next Steps**\n",
    "8.  **Resources**\n",
    "9.  **Appendix**"
   ]
  },
  {
   "cell_type": "markdown",
   "metadata": {},
   "source": [
    "## Table of Contents <a name=\"TOC\"></a> \n",
    "\n",
    "1.  [Introduction](#1)   \n",
    "2.  [Set Up Spark](#2)\n",
    "    1.  [Local Set-Up](#2.A)\n",
    "    2.  [Docker Set-Up](#2.B)\n",
    "    3.  [Cluster Set-Up](#2.C)\n",
    "3.  [ETL](#3)\n",
    "    1.  [Extract](#3.A)\n",
    "    2.  [EDA-0](#3.B)\n",
    "    3.  [Transform and Load](#3.C)\n",
    "        1.  [Target Variables](#3.C.a)\n",
    "        2.  [Claims Data](#3.C.b)\n",
    "        3.  [Drug Data](#3.C.c)\n",
    "        4.  [Lab Data](#3.C.d)\n",
    "        5.  [Members Data](#3.C.e)\n",
    "    4.  [EDA-1](#3.D)\n",
    "4.  [Feature Engineering](#4)\n",
    "    1.  [Aggregation](#4.A)\n",
    "        1.  [Claims Data](#4.A.a)\n",
    "        2.  [Drug Data](#4.A.b)\n",
    "        3.  [Lab Data](#4.A.c)\n",
    "    2.  [One Hot Encoding: Members Data](#4.B)\n",
    "    3.  [Create Final DataFrame For Modeling](#4.C)\n",
    "        1.  [Merge Data](#4.C.a)\n",
    "        2.  [Handle Missing Data](#4.C.b)\n",
    "        3.  [Drop Unnecessary Variables](#4.C.c)\n",
    "        4.  [External Storage Read/Write of Final DataFrame](#4.C.d)\n",
    "        5.  [EDA-2](#4.C.e)\n",
    "5.  [Modeling, Evaluation, and Tuning](#5)\n",
    "    1.  [Create Training, Validation, and Test DataFrames](#5.A)\n",
    "    2.  [Define Evaluation Metric](#5.B)\n",
    "    3.  [Build and Evaluate Baseline Model](#5.C)\n",
    "    4.  [Feature Selection: Principal Component Analysis (PCA)](#5.D)\n",
    "    5.  [Hyperparameter Tuning](#5.E)\n",
    "6.  [Results](#6)\n",
    "7.  [Next Steps](#7)\n",
    "8.  [Resources](#8)\n",
    "9.  [Appendix](#9)\n",
    "    1.  [Runtimes](#9.A)\n",
    "    2.  [Example of Training a Non-Linear Model Using Spark Pipelines](#9.B)\n",
    "    3.  [User-Defined Functions in Spark Pipelines](#9.C)"
   ]
  },
  {
   "cell_type": "markdown",
   "metadata": {},
   "source": [
    "## 1.  Introduction <a name=\"1\"></a>\n",
    "[Back to Table of Contents](#TOC)\n",
    "\n",
    "[The Heritage Health Prize (HHP)](https://www.heritagehealthprize.com/c/hhp) was a data science challenge sponsored by [The Heritage Provider Network](http://www.heritageprovidernetwork.com).  It took place from April 4, 2011 to April 4, 2013.  For information on the winning entries, please see [here](http://www.heritagehealthprize.com/c/hhp/details/milestone-winners).\n",
    "\n",
    "In this notebook, we follow a traditional data science project process to address the HHP challenge of predicting future hospital stays using past patient treatment information.  We extract, transform, and load the data (**ETL**).We conduct **feature engineering**.  Along the way, we do some exploratory data analysis (**EDA**).  We then **create models, evaluate their performance, and fine tune their parameters**.  We write up our **results**.  We explain what additional research we would like to do in a list of **next steps**.  We list our **resources**.  And finally, we create an **appendix** for tangential information related to our project.\n",
    "\n",
    "These are the Python modules needed to run this notebook:\n",
    "\n",
    "1.  pyspark\n",
    "2.  pandas\n",
    "3.  os\n",
    "4.  sys\n",
    "5.  math"
   ]
  },
  {
   "cell_type": "markdown",
   "metadata": {},
   "source": [
    "## 2.  Set Up Spark <a name=\"2\"></a>\n",
    "[Back to Table of Contents](#TOC)"
   ]
  },
  {
   "cell_type": "markdown",
   "metadata": {},
   "source": [
    "### 2.A Local Set-Up <a name=\"2.A\"></a>\n",
    "[Back to Table of Contents](#TOC)\n",
    "\n",
    "Use this code to set up a spark context to run on your local computer.  Set the SPARK_HOME environment variable to the Spark directory being used on your local computer."
   ]
  },
  {
   "cell_type": "code",
   "execution_count": 1,
   "metadata": {
    "collapsed": false
   },
   "outputs": [],
   "source": [
    "# # Replace the path below with your particular local Spark directory\n",
    "# SPARK_HOME='/usr/local/Cellar/apache-spark/spark-1.6.2-bin-hadoop2.6/'\n",
    "\n",
    "# import os\n",
    "# import sys\n",
    "\n",
    "# spark_home = os.environ['SPARK_HOME'] = SPARK_HOME\n",
    "# if not spark_home:\n",
    "#     raise ValueError('SPARK_HOME enviroment variable is not set')\n",
    "# sys.path.insert(0, os.path.join(spark_home,'python'))\n",
    "# sys.path.insert(0, os.path.join(spark_home,'python/lib/py4j-0.9-src.zip'))\n",
    "# execfile(os.path.join(spark_home,'python/pyspark/shell.py'))\n",
    "\n",
    "# from pyspark.sql import SQLContext\n",
    "# sql_context = SQLContext(sc)"
   ]
  },
  {
   "cell_type": "code",
   "execution_count": 2,
   "metadata": {
    "collapsed": false
   },
   "outputs": [],
   "source": [
    "# sc.stop()"
   ]
  },
  {
   "cell_type": "markdown",
   "metadata": {},
   "source": [
    "### 2.B Docker Set-Up <a name=\"2.B\"></a>\n",
    "[Back to Table of Contents](#TOC)\n",
    "\n",
    "Use this code to set up a Spark Context and a SQL Context to run on a Docker virtual machine on your local computer."
   ]
  },
  {
   "cell_type": "code",
   "execution_count": 1,
   "metadata": {
    "collapsed": false
   },
   "outputs": [
    {
     "name": "stdout",
     "output_type": "stream",
     "text": [
      "<pyspark.context.SparkContext object at 0x7fafd01666d0>\n",
      "<pyspark.sql.context.SQLContext object at 0x7fafc8eeacd0>\n"
     ]
    }
   ],
   "source": [
    "import os\n",
    "import sys\n",
    "\n",
    "import pyspark\n",
    "from pyspark.sql import SQLContext\n",
    "\n",
    "# We can give a name to our app (to find it in Spark WebUI) and configure execution mode\n",
    "# In this case, it is local multicore execution with \"local[*]\"\n",
    "app_name = \"hhp\"\n",
    "master = \"local[*]\"\n",
    "conf = pyspark.SparkConf().setAppName(app_name).setMaster(master)\n",
    "sc = pyspark.SparkContext(conf=conf)\n",
    "sql_context = SQLContext(sc)\n",
    "print(sc)\n",
    "print(sql_context)"
   ]
  },
  {
   "cell_type": "markdown",
   "metadata": {},
   "source": [
    "### 2.C Cluster Set-Up <a name=\"2.C\"></a>\n",
    "[Back to Table of Contents](#TOC)\n",
    "\n",
    "Use this code to set up a SQL Context when the cluster already has a Spark Context running."
   ]
  },
  {
   "cell_type": "code",
   "execution_count": 2,
   "metadata": {
    "collapsed": false,
    "scrolled": false
   },
   "outputs": [
    {
     "name": "stdout",
     "output_type": "stream",
     "text": [
      "<pyspark.sql.context.SQLContext object at 0x7fafd0166190>\n"
     ]
    }
   ],
   "source": [
    "sql_context = SQLContext(sc)\n",
    "print sql_context"
   ]
  },
  {
   "cell_type": "markdown",
   "metadata": {
    "collapsed": true
   },
   "source": [
    "## 3.  ETL <a name=\"3\"></a>\n",
    "[Back to Table of Contents](#TOC)\n",
    "\n",
    " A copy of the HHP dataset can be downloaded [here](https://www.dropbox.com/sh/upt0j2q44ncrn1m/AADp4D50rGM61hpaSThZnqF3a/HHP_release3?dl=0).  It consists of the following files:\n",
    "1.  [Claims.csv](https://www.dropbox.com/sh/upt0j2q44ncrn1m/AADAkd0WulfgFthMibmIBtJoa/HHP_release3/Claims.csv?dl=0)  (Claims Data - features)\n",
    "2.  [DaysInHospital_Y2.csv](https://www.dropbox.com/sh/upt0j2q44ncrn1m/AAD0_gwrKFo657caVjV3mjZVa/HHP_release3/DaysInHospital_Y2.csv?dl=0)  (Target Data for Year 2 - labels)\n",
    "3.  [DaysInHospital_Y3.csv](https://www.dropbox.com/sh/upt0j2q44ncrn1m/AACmJkf7txiQiPZ_jd5cqsf3a/HHP_release3/DaysInHospital_Y3.csv?dl=0)  (Target Data for Year 3 - labels)\n",
    "4.  [DrugCount.csv](https://www.dropbox.com/sh/upt0j2q44ncrn1m/AAA_9IxBOsoBSqyhlu7x8z2qa/HHP_release3/DrugCount.csv?dl=0)  (Drug Count Data - features)\n",
    "5.  [LabCount.csv](https://www.dropbox.com/sh/upt0j2q44ncrn1m/AABxVuWLtBLqdYr6pyJCPsfga/HHP_release3/LabCount.csv?dl=0)  (Lab Count Data - features)\n",
    "6.  [Members.csv](https://www.dropbox.com/sh/upt0j2q44ncrn1m/AACgVHEh2yUxzavQlurF8hfla/HHP_release3/Members.csv?dl=0)  (Members Data -features)\n",
    "7.  [Target.csv](https://www.dropbox.com/sh/upt0j2q44ncrn1m/AAD7M6yWTsRtToS7uKmbWrA7a/HHP_release3/Target.csv?dl=0)  (Target Data for Year 4 - labels)\n",
    "\n",
    "The Extract-Transform-Load process will have three steps:  \n",
    "1.  Extract  \n",
    "2.  EDA-0  \n",
    "3.  Transform and Load  \n",
    "\n",
    "**NOTE: The data dictionary for the HHP data can be found [here](https://www.heritagehealthprize.com/c/hhp/data).**\n",
    "\n",
    "<img src=\"https://dl.dropbox.com/s/d5u2et0xahnt2ct/HHP_DataDictionary.png\" width=\"500\" height=\"500\" />\n",
    "\n",
    "First, set the directory where the data can be found:"
   ]
  },
  {
   "cell_type": "code",
   "execution_count": 5,
   "metadata": {
    "collapsed": false
   },
   "outputs": [],
   "source": [
    "import os\n",
    "\n",
    "# Set the directory containing the raw data files\n",
    "DATA_DIR = os.path.join('HHP_release3')"
   ]
  },
  {
   "cell_type": "markdown",
   "metadata": {},
   "source": [
    "### 3.A  Extract <a name=\"3.A\"></a>\n",
    "[Back to Table of Contents](#TOC)\n",
    "\n",
    "Spark 1.6 does not have native support to load csv files directly into SQL DataFrames. We tried [Databrick's CSV Data Source package](https://github.com/databricks/spark-csv), but that did not work. Thus, we implemented a work-around by first reading the csv file into a pandas dataframe and then reading the pandas dataframe into a Spark SQL DataFrame."
   ]
  },
  {
   "cell_type": "code",
   "execution_count": 30,
   "metadata": {
    "collapsed": false
   },
   "outputs": [
    {
     "name": "stdout",
     "output_type": "stream",
     "text": [
      "Schema for target_Y2 DataFrame with 76038 rows:\n",
      "root\n",
      " |-- MemberID: string (nullable = true)\n",
      " |-- ClaimsTruncated: string (nullable = true)\n",
      " |-- DaysInHospital: string (nullable = true)\n",
      "\n",
      "+--------+---------------+--------------+\n",
      "|MemberID|ClaimsTruncated|DaysInHospital|\n",
      "+--------+---------------+--------------+\n",
      "|24027423|              0|             0|\n",
      "+--------+---------------+--------------+\n",
      "only showing top 1 row\n",
      "\n",
      "Schema for target_Y3 DataFrame with 71435 rows:\n",
      "root\n",
      " |-- MemberID: string (nullable = true)\n",
      " |-- ClaimsTruncated: string (nullable = true)\n",
      " |-- DaysInHospital: string (nullable = true)\n",
      "\n",
      "+--------+---------------+--------------+\n",
      "|MemberID|ClaimsTruncated|DaysInHospital|\n",
      "+--------+---------------+--------------+\n",
      "|90963501|              0|             0|\n",
      "+--------+---------------+--------------+\n",
      "only showing top 1 row\n",
      "\n",
      "Schema for target_Y4 DataFrame with 70942 rows:\n",
      "root\n",
      " |-- MemberID: string (nullable = true)\n",
      " |-- ClaimsTruncated: string (nullable = true)\n",
      " |-- DaysInHospital: string (nullable = true)\n",
      "\n",
      "+--------+---------------+--------------+\n",
      "|MemberID|ClaimsTruncated|DaysInHospital|\n",
      "+--------+---------------+--------------+\n",
      "|20820036|              0|           NaN|\n",
      "+--------+---------------+--------------+\n",
      "only showing top 1 row\n",
      "\n",
      "Schema for drug_count DataFrame with 818241 rows:\n",
      "root\n",
      " |-- MemberID: string (nullable = true)\n",
      " |-- Year: string (nullable = true)\n",
      " |-- DSFS: string (nullable = true)\n",
      " |-- DrugCount: string (nullable = true)\n",
      "\n",
      "+--------+----+-----------+---------+\n",
      "|MemberID|Year|       DSFS|DrugCount|\n",
      "+--------+----+-----------+---------+\n",
      "|48925661|  Y2|9-10 months|       7+|\n",
      "+--------+----+-----------+---------+\n",
      "only showing top 1 row\n",
      "\n",
      "Schema for lab_count DataFrame with 361484 rows:\n",
      "root\n",
      " |-- MemberID: string (nullable = true)\n",
      " |-- Year: string (nullable = true)\n",
      " |-- DSFS: string (nullable = true)\n",
      " |-- LabCount: string (nullable = true)\n",
      "\n",
      "+--------+----+-----------+--------+\n",
      "|MemberID|Year|       DSFS|LabCount|\n",
      "+--------+----+-----------+--------+\n",
      "|69258001|  Y3|2- 3 months|       1|\n",
      "+--------+----+-----------+--------+\n",
      "only showing top 1 row\n",
      "\n",
      "Schema for members DataFrame with 113000 rows:\n",
      "root\n",
      " |-- MemberID: string (nullable = true)\n",
      " |-- AgeAtFirstClaim: string (nullable = true)\n",
      " |-- Sex: string (nullable = true)\n",
      "\n",
      "+--------+---------------+---+\n",
      "|MemberID|AgeAtFirstClaim|Sex|\n",
      "+--------+---------------+---+\n",
      "|14723353|          70-79|  M|\n",
      "+--------+---------------+---+\n",
      "only showing top 1 row\n",
      "\n"
     ]
    }
   ],
   "source": [
    "import pandas as pd\n",
    "from pyspark.sql.types import *\n",
    "\n",
    "def load_csv_file(filename):\n",
    "    # HACK - Loading csv directly into a dataframe was supposed to work by using a Databricks\n",
    "    # package (https://github.com/databricks/spark-csv), but it didn't.\n",
    "    # So in this section, we are going the Pandas -> DataFrame route.  Could also go RDD -> DataFrame route.\n",
    "    \n",
    "    # Set our file path\n",
    "    input_path = os.path.join(DATA_DIR, filename)\n",
    "    \n",
    "    # Read into Pandas dataframe.  We assume the file contains a header row.\n",
    "    # Note:  We read in all fields as string.\n",
    "    df_pandas = pd.read_csv(input_path, dtype='str')  \n",
    "    \n",
    "    # Read Pandas dataframe into SQL DataFrame.\n",
    "    # We must define the schema so that datatype is not automatically inferred and everything remains string.\n",
    "    schema_string = df_pandas.columns.values.tolist()\n",
    "    fields = [StructField(field_name, StringType(), True) for field_name in schema_string]\n",
    "    schema = StructType(fields)\n",
    "    \n",
    "    return sql_context.createDataFrame(df_pandas, schema)\n",
    "\n",
    "# Read in Year 2 Target Variables\n",
    "df_target_Y2 = load_csv_file('DaysInHospital_Y2.csv').cache()\n",
    "# Check the data\n",
    "print \"Schema for target_Y2 DataFrame with %d rows:\" %(df_target_Y2.count())\n",
    "df_target_Y2.printSchema()\n",
    "df_target_Y2.show(1)\n",
    "\n",
    "# Read in Year 3 Target Variables\n",
    "df_target_Y3 = load_csv_file('DaysInHospital_Y3.csv').cache()\n",
    "# Check the data\n",
    "print \"Schema for target_Y3 DataFrame with %d rows:\" %(df_target_Y3.count())\n",
    "df_target_Y3.printSchema()\n",
    "df_target_Y3.show(1)\n",
    "\n",
    "# Read in Year 4 Target Variables\n",
    "df_target_Y4 = load_csv_file('Target.csv').cache()\n",
    "# Check the data\n",
    "print \"Schema for target_Y4 DataFrame with %d rows:\" %(df_target_Y4.count())\n",
    "df_target_Y4.printSchema()\n",
    "df_target_Y4.show(1)\n",
    "\n",
    "# # Read in Claims Data\n",
    "# df_claims = load_csv_file('Claims.csv').cache()\n",
    "# # Check the data\n",
    "# print \"Schema for claims DataFrame with %d rows:\" %(df_claims.count())\n",
    "# df_claims.printSchema()\n",
    "# df_claims.show(1)\n",
    "\n",
    "# Read in Drug Data\n",
    "df_drug_count = load_csv_file('DrugCount.csv').cache()\n",
    "# Check the data\n",
    "print \"Schema for drug_count DataFrame with %d rows:\" %(df_drug_count.count())\n",
    "df_drug_count.printSchema()\n",
    "df_drug_count.show(1)\n",
    "\n",
    "# Read in Lab Data\n",
    "df_lab_count = load_csv_file('LabCount.csv').cache()\n",
    "# Check the data\n",
    "print \"Schema for lab_count DataFrame with %d rows:\" %(df_lab_count.count())\n",
    "df_lab_count.printSchema()\n",
    "df_lab_count.show(1)\n",
    "\n",
    "# Read in Members Data\n",
    "df_members = load_csv_file('Members.csv').cache()\n",
    "# Check the data\n",
    "print \"Schema for members DataFrame with %d rows:\" %(df_members.count())\n",
    "df_members.printSchema()\n",
    "df_members.show(1)"
   ]
  },
  {
   "cell_type": "code",
   "execution_count": 31,
   "metadata": {
    "collapsed": false
   },
   "outputs": [],
   "source": [
    "# # Then we can run some queries on the tt tables\n",
    "# # Example: Count the number of samples in the Claims Data where the LengthOfStay is suppressed\n",
    "# df_sup_los_1 = sql_context.sql(\"SELECT COUNT(MemberID) FROM claims_tt WHERE SupLOS = 1\")\n",
    "# print 'Number of samples in the Claims Data where the LengthOfStay is suppressed:'\n",
    "# df_sup_los_1.show(1)\n",
    "# df_sup_los_1.unpersist()\n",
    "# # Example:  Get all possible values of the variable PrimaryConditionGroup\n",
    "# df_pcg = sql_context.sql(\"SELECT DISTINCT(PrimaryConditionGroup) FROM claims_tt\")\n",
    "# print 'Possible Values for PrimaryConditionGroup:'\n",
    "# df_pcg.show(df_pcg.count())\n",
    "\n",
    "# # Free up memory\n",
    "# sql_context.dropTempTable(\"claims_tt\")"
   ]
  },
  {
   "cell_type": "code",
   "execution_count": 32,
   "metadata": {
    "collapsed": true
   },
   "outputs": [],
   "source": [
    "# TO DO:  EDA on each temp table above."
   ]
  },
  {
   "cell_type": "code",
   "execution_count": 33,
   "metadata": {
    "collapsed": false,
    "scrolled": false
   },
   "outputs": [],
   "source": [
    "# # Method 2: Direct queries of DataFrames\n",
    "# # DataFrame Operations:  https://spark.apache.org/docs/latest/api/python/pyspark.sql.html#pyspark.sql.DataFrame\n",
    "\n",
    "# # Example: Get counts of values in each column of Claims data\n",
    "# print df_claims.columns\n",
    "# columns_for_analysis = ['Year', 'Specialty', 'PlaceSvc', 'LengthOfStay', 'DSFS', \n",
    "#                         'PrimaryConditionGroup', 'CharlsonIndex', 'ProcedureGroup', 'SupLOS']\n",
    "# for column in columns_for_analysis:\n",
    "#     df_claims.groupBy(column).count().show()"
   ]
  },
  {
   "cell_type": "code",
   "execution_count": 34,
   "metadata": {
    "collapsed": true
   },
   "outputs": [],
   "source": [
    "# TO DO:  EDA on each DataFrame above."
   ]
  },
  {
   "cell_type": "markdown",
   "metadata": {},
   "source": [
    "### 3.C  Transform and Load <a name=\"3.C\"></a>\n",
    "[Back to Table of Contents](#TOC)\n",
    "\n",
    "We use **Spark SQL Pipelines** to transform the data based on our findings in EDA-0.  Mostly, we are converting strings to numeric values.  We follow these steps:  \n",
    "\n",
    "1.  Create the SQL statements to transform the data.  \n",
    "2.  Create a SQL transformer for each statement.  \n",
    "3.  Define a pipeline that runs all the SQL statements in order.  \n",
    "4.  Fit/define a pipeline model.  \n",
    "5.  Run the pipeline model to transform the data.  \n",
    "\n",
    "The SQL statements used in this section are based on this [blog](http://anotherdataminingblog.blogspot.com/2011/10/code-for-respectable-hhp-model.html).\n",
    "\n",
    "**NOTE: The SQLTransformer in pyspark.ml cannot execute all SQL commands.  This is because DataFrames are based on RDDs, and RDDs are immutable data structures.  Updating elements in place is not possible.  For example, instead of modifying an existing column with \"UPDATE ... SET\" as in traditional SQL, we must create a new column.  Refer to this [StackOverflow entry](http://stackoverflow.com/questions/29109916/updating-a-dataframe-column-in-spark).**"
   ]
  },
  {
   "cell_type": "code",
   "execution_count": 35,
   "metadata": {
    "collapsed": true
   },
   "outputs": [],
   "source": [
    "from pyspark.ml import Pipeline\n",
    "from pyspark.ml.feature import SQLTransformer"
   ]
  },
  {
   "cell_type": "markdown",
   "metadata": {
    "collapsed": false
   },
   "source": [
    "#### 3.C.a  Target Variables <a name=\"3.C.a\"></a>\n",
    "[Back to Table of Contents](#TOC)\n",
    "\n",
    "**NOTE: When we build our models below using pipelines, Spark expects that our target variable will have the name 'label'.  We creat 'label' here in the transformation step as LN(DaysInHospital + 1.0).  This is in line with the log root-mean-squared-error (log RMSE) loss function used by HHP to measure model performance.  See [here](https://www.heritagehealthprize.com/c/hhp/details/evaluation) for the original HHP explanation of their evaluation metric and [here](#5.B) in this notebook for a summary.**"
   ]
  },
  {
   "cell_type": "code",
   "execution_count": 36,
   "metadata": {
    "collapsed": false
   },
   "outputs": [
    {
     "name": "stdout",
     "output_type": "stream",
     "text": [
      "df_target_Y2_transformed has 76038 rows:\n",
      "+--------+---------------+--------------+-----+----+\n",
      "|MemberID|ClaimsTruncated|DaysInHospital|label|Year|\n",
      "+--------+---------------+--------------+-----+----+\n",
      "|24027423|              0|           0.0|  0.0|  Y1|\n",
      "|98324177|              0|           0.0|  0.0|  Y1|\n",
      "+--------+---------------+--------------+-----+----+\n",
      "only showing top 2 rows\n",
      "\n",
      "None\n",
      "df_target_Y3_transformed has 71435 rows:\n",
      "+--------+---------------+--------------+-----+----+\n",
      "|MemberID|ClaimsTruncated|DaysInHospital|label|Year|\n",
      "+--------+---------------+--------------+-----+----+\n",
      "|90963501|              0|           0.0|  0.0|  Y2|\n",
      "|85160905|              0|           0.0|  0.0|  Y2|\n",
      "+--------+---------------+--------------+-----+----+\n",
      "only showing top 2 rows\n",
      "\n",
      "None\n",
      "df_target_Y4_transformed has 70942 rows:\n",
      "+--------+---------------+--------------+-----+----+\n",
      "|MemberID|ClaimsTruncated|DaysInHospital|label|Year|\n",
      "+--------+---------------+--------------+-----+----+\n",
      "|20820036|              0|           NaN| null|  Y3|\n",
      "|14625274|              1|           NaN| null|  Y3|\n",
      "+--------+---------------+--------------+-----+----+\n",
      "only showing top 2 rows\n",
      "\n",
      "None\n"
     ]
    },
    {
     "data": {
      "text/plain": [
       "DataFrame[MemberID: string, ClaimsTruncated: string, DaysInHospital: string]"
      ]
     },
     "execution_count": 36,
     "metadata": {},
     "output_type": "execute_result"
    }
   ],
   "source": [
    "# Step 1:  Create the SQL statements\n",
    "# Convert strings to numbers and add Year\n",
    "sql_0001_text = \"SELECT MemberID, \\\n",
    "                 CAST(ClaimsTruncated AS INT) AS ClaimsTruncated, \\\n",
    "                 CAST(DaysInHospital AS DOUBLE) AS DaysInHospital, \\\n",
    "                 LN(DaysInHospital + 1.0) AS label, \\\n",
    "                 'Y1' AS Year \\\n",
    "                 FROM __THIS__\"\n",
    "sql_0002_text = \"SELECT MemberID, \\\n",
    "                 CAST(ClaimsTruncated AS INT) AS ClaimsTruncated, \\\n",
    "                 CAST(DaysInHospital AS DOUBLE) AS DaysInHospital, \\\n",
    "                 LN(DaysInHospital + 1.0) AS label, \\\n",
    "                 'Y2' AS Year \\\n",
    "                 FROM __THIS__\"\n",
    "sql_0003_text = \"SELECT MemberID, \\\n",
    "                 CAST(ClaimsTruncated AS INT) AS ClaimsTruncated, \\\n",
    "                 CAST(DaysInHospital AS DOUBLE) AS DaysInHospital, \\\n",
    "                 LN(DaysInHospital + 1.0) AS label, \\\n",
    "                 'Y3' AS Year \\\n",
    "                 FROM __THIS__\"\n",
    "\n",
    "# Step 2: Create the SQL transformers\n",
    "sql_0001 = SQLTransformer(statement=(sql_0001_text))\n",
    "sql_0002 = SQLTransformer(statement=(sql_0002_text))\n",
    "sql_0003 = SQLTransformer(statement=(sql_0003_text))\n",
    "\n",
    "# Step 3: Define the pipelines\n",
    "transform_target_Y2_pipeline = Pipeline(stages=[sql_0001])\n",
    "transform_target_Y3_pipeline = Pipeline(stages=[sql_0002])\n",
    "transform_target_Y4_pipeline = Pipeline(stages=[sql_0003])\n",
    "\n",
    "# Step 4: Fit the pipeline models\n",
    "transform_target_Y2_pipeline_model = transform_target_Y2_pipeline.fit(df_target_Y2)\n",
    "transform_target_Y3_pipeline_model = transform_target_Y3_pipeline.fit(df_target_Y3)\n",
    "transform_target_Y4_pipeline_model = transform_target_Y4_pipeline.fit(df_target_Y4)\n",
    "\n",
    "# Step 5: Run the pipeline model\n",
    "df_target_Y2_transformed = transform_target_Y2_pipeline_model.transform(df_target_Y2).cache()\n",
    "df_target_Y3_transformed = transform_target_Y3_pipeline_model.transform(df_target_Y3).cache()\n",
    "df_target_Y4_transformed = transform_target_Y4_pipeline_model.transform(df_target_Y4).cache()\n",
    "\n",
    "# Check the transformed data\n",
    "print 'df_target_Y2_transformed has %d rows:' %(df_target_Y2_transformed.count())\n",
    "print df_target_Y2_transformed.show(2)\n",
    "print 'df_target_Y3_transformed has %d rows:' %(df_target_Y3_transformed.count())\n",
    "print df_target_Y3_transformed.show(2)\n",
    "print 'df_target_Y4_transformed has %d rows:' %(df_target_Y4_transformed.count())\n",
    "print df_target_Y4_transformed.show(2)\n",
    "\n",
    "# Free up memory\n",
    "df_target_Y2.unpersist()\n",
    "df_target_Y3.unpersist()\n",
    "df_target_Y4.unpersist()"
   ]
  },
  {
   "cell_type": "markdown",
   "metadata": {},
   "source": [
    "#### 3.C.b  Claims Data <a name=\"3.C.b\"></a>\n",
    "[Back to Table of Contents](#TOC)"
   ]
  },
  {
   "cell_type": "code",
   "execution_count": 37,
   "metadata": {
    "collapsed": false
   },
   "outputs": [],
   "source": [
    "# # Step 1:  Create the SQL statements\n",
    "# # Convert strings to numbers\n",
    "# sql_0001_text = \"SELECT *, \\\n",
    "#                  CASE WHEN PayDelay = '162+' THEN 163 ELSE (CAST(PayDelay AS INT)) END AS PayDelayI \\\n",
    "#                  FROM __THIS__\"\n",
    "# sql_0002_text = \"SELECT *, \\\n",
    "#                  CASE \\\n",
    "#                  WHEN DSFS = '0- 1 month' THEN 1 \\\n",
    "#                  WHEN DSFS = '1- 2 months' THEN 2 \\\n",
    "#                  WHEN DSFS = '2- 3 months' THEN 3 \\\n",
    "#                  WHEN DSFS = '3- 4 months' THEN 4 \\\n",
    "#                  WHEN DSFS = '4- 5 months' THEN 5 \\\n",
    "#                  WHEN DSFS = '5- 6 months' THEN 6 \\\n",
    "#                  WHEN DSFS = '6- 7 months' THEN 7 \\\n",
    "#                  WHEN DSFS = '7- 8 months' THEN 8 \\\n",
    "#                  WHEN DSFS = '8- 9 months' THEN 9 \\\n",
    "#                  WHEN DSFS = '9-10 months' THEN 10 \\\n",
    "#                  WHEN DSFS = '10-11 months' THEN 11 \\\n",
    "#                  WHEN DSFS = '11-12 months' THEN 12 \\\n",
    "#                  WHEN DSFS IS NULL THEN NULL \\\n",
    "#                  END \\\n",
    "#                  AS DSFSI \\\n",
    "#                  FROM __THIS__\"\n",
    "# sql_0003_text = \"SELECT *, \\\n",
    "#                  CASE \\\n",
    "#                  WHEN CharlsonIndex = '0' THEN 0 \\\n",
    "#                  WHEN CharlsonIndex = '1-2' THEN 2 \\\n",
    "#                  WHEN CharlsonIndex = '3-4' THEN 4 \\\n",
    "#                  WHEN CharlsonIndex = '5+' THEN 6 \\\n",
    "#                  END \\\n",
    "#                  AS CharlsonIndexI \\\n",
    "#                  FROM __THIS__\"\n",
    "# sql_0004_text = \"SELECT *, \\\n",
    "#                  CASE \\\n",
    "#                  WHEN LengthOfStay = '1 day' THEN 1 \\\n",
    "#                  WHEN LengthOfStay = '2 days' THEN 2 \\\n",
    "#                  WHEN LengthOfStay = '3 days' THEN 3 \\\n",
    "#                  WHEN LengthOfStay = '4 days' THEN 4 \\\n",
    "#                  WHEN LengthOfStay = '5 days' THEN 5 \\\n",
    "#                  WHEN LengthOfStay = '6 days' THEN 6 \\\n",
    "#                  WHEN LengthOfStay = '1- 2 weeks' THEN 11 \\\n",
    "#                  WHEN LengthOfStay = '2- 4 weeks' THEN 21 \\\n",
    "#                  WHEN LengthOfStay = '4- 8 weeks' THEN 42 \\\n",
    "#                  WHEN LengthOfStay = '26+ weeks' THEN 180 \\\n",
    "#                  WHEN LengthOfStay IS NULL THEN null \\\n",
    "#                  END \\\n",
    "#                  AS LengthOfStayI \\\n",
    "#                  FROM __THIS__\"\n",
    "\n",
    "# # Step 2: Create the SQL transformers\n",
    "# sql_0001 = SQLTransformer(statement=(sql_0001_text))\n",
    "# sql_0002 = SQLTransformer(statement=(sql_0002_text))\n",
    "# sql_0003 = SQLTransformer(statement=(sql_0003_text))\n",
    "# sql_0004 = SQLTransformer(statement=(sql_0004_text))\n",
    "\n",
    "# # Step 3: Define the pipeline\n",
    "# transform_claims_pipeline = Pipeline(stages=[sql_0001, sql_0002, sql_0003, sql_0004])\n",
    "\n",
    "# # Step 4: Fit the pipeline model\n",
    "# transform_claims_pipeline_model = transform_claims_pipeline.fit(df_claims)\n",
    "\n",
    "# # Step 5: Run the pipeline model\n",
    "# df_claims_transformed = transform_claims_pipeline_model.transform(df_claims).cache()\n",
    "\n",
    "# # Check the transformed data\n",
    "# print 'df_claims_transformed has %d rows:' %(df_claims_transformed.count())\n",
    "# print df_claims_transformed.show(2)\n",
    "\n",
    "# # Free up memory\n",
    "# df_claims.unpersist()"
   ]
  },
  {
   "cell_type": "markdown",
   "metadata": {},
   "source": [
    "#### 3.C.c  Drug Data <a name=\"3.C.c\"></a>\n",
    "[Back to Table of Contents](#TOC)"
   ]
  },
  {
   "cell_type": "code",
   "execution_count": 38,
   "metadata": {
    "collapsed": false
   },
   "outputs": [
    {
     "name": "stdout",
     "output_type": "stream",
     "text": [
      "df_drug_count_transformed has 818241 rows:\n",
      "+--------+----+-----------+---------+----------+\n",
      "|MemberID|Year|       DSFS|DrugCount|DrugCountI|\n",
      "+--------+----+-----------+---------+----------+\n",
      "|48925661|  Y2|9-10 months|       7+|         7|\n",
      "|90764620|  Y3|8- 9 months|        3|         3|\n",
      "+--------+----+-----------+---------+----------+\n",
      "only showing top 2 rows\n",
      "\n",
      "None\n"
     ]
    },
    {
     "data": {
      "text/plain": [
       "DataFrame[MemberID: string, Year: string, DSFS: string, DrugCount: string]"
      ]
     },
     "execution_count": 38,
     "metadata": {},
     "output_type": "execute_result"
    }
   ],
   "source": [
    "# Step 1:  Create the SQL statements\n",
    "# Convert strings to numbers\n",
    "sql_0001_text = \"SELECT *, \\\n",
    "                 CASE WHEN DrugCount = '7+' THEN 7 ELSE (CAST(DrugCount AS INT)) END AS DrugCountI \\\n",
    "                 FROM __THIS__\"\n",
    "\n",
    "# Step 2: Create the SQL transformers\n",
    "sql_0001 = SQLTransformer(statement=(sql_0001_text))\n",
    "\n",
    "# Step 3: Define the pipeline\n",
    "transform_drugs_pipeline = Pipeline(stages=[sql_0001])\n",
    "\n",
    "# Step 4: Fit the pipeline model\n",
    "transform_drugs_pipeline_model = transform_drugs_pipeline.fit(df_drug_count)\n",
    "\n",
    "# Step 5: Run the pipeline model\n",
    "df_drug_count_transformed = transform_drugs_pipeline_model.transform(df_drug_count).cache()\n",
    "\n",
    "# Check the transformed data\n",
    "print 'df_drug_count_transformed has %d rows:' %(df_drug_count_transformed.count())\n",
    "print df_drug_count_transformed.show(2)\n",
    "\n",
    "# Free up memory\n",
    "df_drug_count.unpersist()"
   ]
  },
  {
   "cell_type": "markdown",
   "metadata": {},
   "source": [
    "#### 3.C.d  Lab Data <a name=\"3.C.d\"></a>\n",
    "[Back to Table of Contents](#TOC)"
   ]
  },
  {
   "cell_type": "code",
   "execution_count": 39,
   "metadata": {
    "collapsed": false
   },
   "outputs": [
    {
     "name": "stdout",
     "output_type": "stream",
     "text": [
      "df_lab_count_transformed has 361484 rows:\n",
      "+--------+----+-----------+--------+---------+\n",
      "|MemberID|Year|       DSFS|LabCount|LabCountI|\n",
      "+--------+----+-----------+--------+---------+\n",
      "|69258001|  Y3|2- 3 months|       1|        1|\n",
      "|10143167|  Y1| 0- 1 month|       2|        2|\n",
      "+--------+----+-----------+--------+---------+\n",
      "only showing top 2 rows\n",
      "\n",
      "None\n"
     ]
    },
    {
     "data": {
      "text/plain": [
       "DataFrame[MemberID: string, Year: string, DSFS: string, LabCount: string]"
      ]
     },
     "execution_count": 39,
     "metadata": {},
     "output_type": "execute_result"
    }
   ],
   "source": [
    "# Step 1:  Create the SQL statements\n",
    "# Convert strings to numbers\n",
    "sql_0001_text = \"SELECT *, \\\n",
    "                 CASE WHEN LabCount = '10+' THEN 10 ELSE (CAST(LabCount AS INT)) END AS LabCountI \\\n",
    "                 FROM __THIS__\"\n",
    "\n",
    "# Step 2: Create the SQL transformers\n",
    "sql_0001 = SQLTransformer(statement=(sql_0001_text))\n",
    "\n",
    "# Step 3: Define the pipeline\n",
    "transform_labs_pipeline = Pipeline(stages=[sql_0001])\n",
    "\n",
    "# Step 4: Fit the pipeline model\n",
    "transform_labs_pipeline_model = transform_labs_pipeline.fit(df_lab_count)\n",
    "\n",
    "# Step 5: Run the pipeline model\n",
    "df_lab_count_transformed = transform_labs_pipeline_model.transform(df_lab_count).cache()\n",
    "\n",
    "# Check the transformed data\n",
    "print 'df_lab_count_transformed has %d rows:' %(df_lab_count_transformed.count())\n",
    "print df_lab_count_transformed.show(2)\n",
    "\n",
    "# Free up memory\n",
    "df_lab_count.unpersist()"
   ]
  },
  {
   "cell_type": "markdown",
   "metadata": {},
   "source": [
    "### 3.D  EDA-1 <a name=\"3.D\"></a>\n",
    "[Back to Table of Contents](#TOC)\n",
    "\n",
    "It is a best practice to do some EDA on each table to get a feel for the categorical variables, to see the distributions of the numeric variables, etc.  See [here](http://itl.nist.gov/div898/handbook/eda/eda.htm) for a comprehensive list of EDA techniques and the graphs [here](http://nbviewer.jupyter.org/urls/dl.dropbox.com/s/kmbgrkhh73931lo/Titanic-EDA-LogisticRegression.ipynb) for inspiration from the [Titanic Kaggle competition](https://www.kaggle.com/c/titanic).  Also see [Section 7: Next Steps](#7.)."
   ]
  },
  {
   "cell_type": "code",
   "execution_count": 15,
   "metadata": {
    "collapsed": true
   },
   "outputs": [],
   "source": [
    "# TO DO: EDA on df_target_Y2_transformed, df_target_Y3_transformed, df_target_Y4_transformed, df_claims_transformed,\n",
    "#        df_drug_count_transformed, df_lab_count_transformed, df_members"
   ]
  },
  {
   "cell_type": "code",
   "execution_count": 40,
   "metadata": {
    "collapsed": false
   },
   "outputs": [
    {
     "name": "stdout",
     "output_type": "stream",
     "text": [
      "[Row(MemberID=u'24027423', ClaimsTruncated=0, DaysInHospital=0.0, label=0.0, Year=u'Y1')]\n",
      "[Row(MemberID=u'90963501', ClaimsTruncated=0, DaysInHospital=0.0, label=0.0, Year=u'Y2')]\n",
      "[Row(MemberID=u'20820036', ClaimsTruncated=0, DaysInHospital=nan, label=None, Year=u'Y3')]\n",
      "[Row(MemberID=u'48925661', Year=u'Y2', DSFS=u'9-10 months', DrugCount=u'7+', DrugCountI=7)]\n",
      "[Row(MemberID=u'69258001', Year=u'Y3', DSFS=u'2- 3 months', LabCount=u'1', LabCountI=1)]\n",
      "[Row(MemberID=u'14723353', AgeAtFirstClaim=u'70-79', Sex=u'M')]\n"
     ]
    }
   ],
   "source": [
    "print df_target_Y2_transformed.take(1)\n",
    "print df_target_Y3_transformed.take(1)\n",
    "print df_target_Y4_transformed.take(1)\n",
    "# print df_claims_transformed.take(1)\n",
    "print df_drug_count_transformed.take(1)\n",
    "print df_lab_count_transformed.take(1)\n",
    "print df_members.take(1)"
   ]
  },
  {
   "cell_type": "code",
   "execution_count": 50,
   "metadata": {
    "collapsed": false
   },
   "outputs": [
    {
     "name": "stdout",
     "output_type": "stream",
     "text": [
      "['MemberID', 'ClaimsTruncated', 'DaysInHospital', 'label', 'Year']\n",
      "+--------+---------------+--------------+------------------+----+-----+\n",
      "|MemberID|ClaimsTruncated|DaysInHospital|             label|Year|count|\n",
      "+--------+---------------+--------------+------------------+----+-----+\n",
      "|51315613|              0|           0.0|               0.0|  Y1|    1|\n",
      "|14352176|              1|           2.0|1.0986122886681098|  Y1|    1|\n",
      "|83809553|              0|           0.0|               0.0|  Y1|    1|\n",
      "|66830992|              0|           0.0|               0.0|  Y1|    1|\n",
      "|12211688|              0|           0.0|               0.0|  Y1|    1|\n",
      "|54802385|              0|           0.0|               0.0|  Y1|    1|\n",
      "|44918063|              0|           0.0|               0.0|  Y1|    1|\n",
      "|52778800|              0|           0.0|               0.0|  Y1|    1|\n",
      "|70991621|              0|           0.0|               0.0|  Y1|    1|\n",
      "|84051085|              0|           0.0|               0.0|  Y1|    1|\n",
      "|88356092|              0|           0.0|               0.0|  Y1|    1|\n",
      "|84290672|              0|           3.0|1.3862943611198906|  Y1|    1|\n",
      "|88589979|              0|           0.0|               0.0|  Y1|    1|\n",
      "|28442081|              0|           0.0|               0.0|  Y1|    1|\n",
      "|52178420|              0|           0.0|               0.0|  Y1|    1|\n",
      "|38761134|              0|           0.0|               0.0|  Y1|    1|\n",
      "|14204668|              0|           0.0|               0.0|  Y1|    1|\n",
      "|57756490|              0|           0.0|               0.0|  Y1|    1|\n",
      "|18751073|              1|           0.0|               0.0|  Y1|    1|\n",
      "|13336735|              0|           0.0|               0.0|  Y1|    1|\n",
      "+--------+---------------+--------------+------------------+----+-----+\n",
      "only showing top 20 rows\n",
      "\n"
     ]
    }
   ],
   "source": [
    "# Method 2: Direct queries of DataFrames\n",
    "# DataFrame Operations:  https://spark.apache.org/docs/latest/api/python/pyspark.sql.html#pyspark.sql.DataFrame\n",
    "\n",
    "# Example: Get counts of values in each column of Claims data\n",
    "print df_target_Y2_transformed.columns\n",
    "columns_for_analysis = [df_target_Y2_transformed.columns]\n",
    "for column in columns_for_analysis:\n",
    "    df_target_Y2_transformed.groupBy(column).count().show()"
   ]
  },
  {
   "cell_type": "code",
   "execution_count": 51,
   "metadata": {
    "collapsed": false
   },
   "outputs": [
    {
     "name": "stdout",
     "output_type": "stream",
     "text": [
      "['MemberID', 'ClaimsTruncated', 'DaysInHospital', 'label', 'Year']\n",
      "+--------+---------------+--------------+------------------+----+-----+\n",
      "|MemberID|ClaimsTruncated|DaysInHospital|             label|Year|count|\n",
      "+--------+---------------+--------------+------------------+----+-----+\n",
      "|85931570|              0|           0.0|               0.0|  Y2|    1|\n",
      "|46719078|              0|           0.0|               0.0|  Y2|    1|\n",
      "|93840707|              0|           0.0|               0.0|  Y2|    1|\n",
      "|65912788|              0|           0.0|               0.0|  Y2|    1|\n",
      "| 5023254|              0|           1.0|0.6931471805599453|  Y2|    1|\n",
      "|32121753|              0|           0.0|               0.0|  Y2|    1|\n",
      "|47785786|              0|           0.0|               0.0|  Y2|    1|\n",
      "|59588544|              0|           0.0|               0.0|  Y2|    1|\n",
      "|52086511|              0|           0.0|               0.0|  Y2|    1|\n",
      "|83644818|              0|           0.0|               0.0|  Y2|    1|\n",
      "|14129276|              0|           0.0|               0.0|  Y2|    1|\n",
      "|80791171|              0|           0.0|               0.0|  Y2|    1|\n",
      "|58251719|              0|           0.0|               0.0|  Y2|    1|\n",
      "| 5459988|              0|           0.0|               0.0|  Y2|    1|\n",
      "| 7805510|              0|           0.0|               0.0|  Y2|    1|\n",
      "|24206801|              0|           1.0|0.6931471805599453|  Y2|    1|\n",
      "|98268617|              0|           2.0|1.0986122886681098|  Y2|    1|\n",
      "|50918232|              0|           0.0|               0.0|  Y2|    1|\n",
      "|81943935|              0|           0.0|               0.0|  Y2|    1|\n",
      "|62419136|              0|           0.0|               0.0|  Y2|    1|\n",
      "+--------+---------------+--------------+------------------+----+-----+\n",
      "only showing top 20 rows\n",
      "\n"
     ]
    }
   ],
   "source": [
    "# Method 2: Direct queries of DataFrames\n",
    "# DataFrame Operations:  https://spark.apache.org/docs/latest/api/python/pyspark.sql.html#pyspark.sql.DataFrame\n",
    "\n",
    "# Example: Get counts of values in each column of Claims data\n",
    "print df_target_Y3_transformed.columns\n",
    "columns_for_analysis = [df_target_Y3_transformed.columns]\n",
    "for column in columns_for_analysis:\n",
    "    df_target_Y3_transformed.groupBy(column).count().show()"
   ]
  },
  {
   "cell_type": "code",
   "execution_count": 52,
   "metadata": {
    "collapsed": false
   },
   "outputs": [
    {
     "name": "stdout",
     "output_type": "stream",
     "text": [
      "['MemberID', 'ClaimsTruncated', 'DaysInHospital', 'label', 'Year']\n",
      "+--------+---------------+--------------+-----+----+-----+\n",
      "|MemberID|ClaimsTruncated|DaysInHospital|label|Year|count|\n",
      "+--------+---------------+--------------+-----+----+-----+\n",
      "|20820036|              0|           NaN| null|  Y3|    1|\n",
      "|68377678|              1|           NaN| null|  Y3|    1|\n",
      "|98656209|              0|           NaN| null|  Y3|    1|\n",
      "|31972669|              0|           NaN| null|  Y3|    1|\n",
      "|84897959|              0|           NaN| null|  Y3|    1|\n",
      "|28990313|              0|           NaN| null|  Y3|    1|\n",
      "|71615102|              0|           NaN| null|  Y3|    1|\n",
      "|94204881|              1|           NaN| null|  Y3|    1|\n",
      "| 8115109|              0|           NaN| null|  Y3|    1|\n",
      "|86131400|              0|           NaN| null|  Y3|    1|\n",
      "|57849963|              0|           NaN| null|  Y3|    1|\n",
      "| 1708113|              0|           NaN| null|  Y3|    1|\n",
      "|73793602|              0|           NaN| null|  Y3|    1|\n",
      "|60235816|              0|           NaN| null|  Y3|    1|\n",
      "|48154829|              0|           NaN| null|  Y3|    1|\n",
      "|46372887|              0|           NaN| null|  Y3|    1|\n",
      "|92783271|              0|           NaN| null|  Y3|    1|\n",
      "|52267760|              0|           NaN| null|  Y3|    1|\n",
      "|46360031|              0|           NaN| null|  Y3|    1|\n",
      "|64031506|              0|           NaN| null|  Y3|    1|\n",
      "+--------+---------------+--------------+-----+----+-----+\n",
      "only showing top 20 rows\n",
      "\n"
     ]
    }
   ],
   "source": [
    "# Method 2: Direct queries of DataFrames\n",
    "# DataFrame Operations:  https://spark.apache.org/docs/latest/api/python/pyspark.sql.html#pyspark.sql.DataFrame\n",
    "\n",
    "# Example: Get counts of values in each column of Claims data\n",
    "print df_target_Y4_transformed.columns\n",
    "columns_for_analysis = [df_target_Y4_transformed.columns]\n",
    "for column in columns_for_analysis:\n",
    "    df_target_Y4_transformed.groupBy(column).count().show()"
   ]
  },
  {
   "cell_type": "code",
   "execution_count": 53,
   "metadata": {
    "collapsed": false
   },
   "outputs": [
    {
     "name": "stdout",
     "output_type": "stream",
     "text": [
      "['MemberID', 'Year', 'DSFS', 'DrugCount', 'DrugCountI']\n",
      "+--------+----+------------+---------+----------+-----+\n",
      "|MemberID|Year|        DSFS|DrugCount|DrugCountI|count|\n",
      "+--------+----+------------+---------+----------+-----+\n",
      "|64344678|  Y2|  0- 1 month|        4|         4|    1|\n",
      "|75674915|  Y3| 9-10 months|       7+|         7|    1|\n",
      "|72655955|  Y3| 6- 7 months|        3|         3|    1|\n",
      "|80546019|  Y3| 9-10 months|        2|         2|    1|\n",
      "| 8466334|  Y3| 2- 3 months|        3|         3|    1|\n",
      "|83036112|  Y3| 1- 2 months|        1|         1|    1|\n",
      "|44371750|  Y3| 9-10 months|        4|         4|    1|\n",
      "|75791336|  Y2|10-11 months|        1|         1|    1|\n",
      "|76586915|  Y2| 1- 2 months|        2|         2|    1|\n",
      "|33811601|  Y3|  0- 1 month|        1|         1|    1|\n",
      "|86458111|  Y1| 2- 3 months|        3|         3|    1|\n",
      "|  396976|  Y3| 7- 8 months|        4|         4|    1|\n",
      "|97957570|  Y2| 8- 9 months|        2|         2|    1|\n",
      "|72222730|  Y1| 8- 9 months|       7+|         7|    1|\n",
      "|87185509|  Y2| 5- 6 months|        5|         5|    1|\n",
      "|71351660|  Y1|  0- 1 month|        2|         2|    1|\n",
      "| 3543450|  Y1| 2- 3 months|        1|         1|    1|\n",
      "|20044636|  Y2| 3- 4 months|        1|         1|    1|\n",
      "|20113862|  Y2| 6- 7 months|        1|         1|    1|\n",
      "|98156843|  Y2| 9-10 months|        5|         5|    1|\n",
      "+--------+----+------------+---------+----------+-----+\n",
      "only showing top 20 rows\n",
      "\n"
     ]
    }
   ],
   "source": [
    "# Method 2: Direct queries of DataFrames\n",
    "# DataFrame Operations:  https://spark.apache.org/docs/latest/api/python/pyspark.sql.html#pyspark.sql.DataFrame\n",
    "\n",
    "# Example: Get counts of values in each column of Claims data\n",
    "print df_drug_count_transformed.columns\n",
    "columns_for_analysis = [df_drug_count_transformed.columns]\n",
    "for column in columns_for_analysis:\n",
    "    df_drug_count_transformed.groupBy(column).count().show()"
   ]
  },
  {
   "cell_type": "code",
   "execution_count": 54,
   "metadata": {
    "collapsed": false
   },
   "outputs": [
    {
     "name": "stdout",
     "output_type": "stream",
     "text": [
      "['MemberID', 'Year', 'DSFS', 'LabCount', 'LabCountI']\n",
      "+--------+----+------------+--------+---------+-----+\n",
      "|MemberID|Year|        DSFS|LabCount|LabCountI|count|\n",
      "+--------+----+------------+--------+---------+-----+\n",
      "|45932255|  Y1|  0- 1 month|       2|        2|    1|\n",
      "|93320973|  Y1| 4- 5 months|       2|        2|    1|\n",
      "|22614908|  Y1|11-12 months|       4|        4|    1|\n",
      "|28584940|  Y1| 3- 4 months|       4|        4|    1|\n",
      "|24900960|  Y2|  0- 1 month|       1|        1|    1|\n",
      "|69704433|  Y1| 7- 8 months|       1|        1|    1|\n",
      "| 4565125|  Y3| 4- 5 months|     10+|       10|    1|\n",
      "|65586439|  Y3| 7- 8 months|       3|        3|    1|\n",
      "|10025327|  Y1| 3- 4 months|       5|        5|    1|\n",
      "|30268074|  Y1| 4- 5 months|       6|        6|    1|\n",
      "|68372458|  Y1|  0- 1 month|       6|        6|    1|\n",
      "|53062090|  Y2| 4- 5 months|       2|        2|    1|\n",
      "|98913094|  Y2| 1- 2 months|       1|        1|    1|\n",
      "|24035776|  Y1|11-12 months|       3|        3|    1|\n",
      "|94557310|  Y3| 3- 4 months|       3|        3|    1|\n",
      "|54231624|  Y3| 9-10 months|       1|        1|    1|\n",
      "| 2507705|  Y1| 2- 3 months|       3|        3|    1|\n",
      "|16553346|  Y2| 3- 4 months|       1|        1|    1|\n",
      "|68216742|  Y3| 2- 3 months|       4|        4|    1|\n",
      "|48224793|  Y3|  0- 1 month|       2|        2|    1|\n",
      "+--------+----+------------+--------+---------+-----+\n",
      "only showing top 20 rows\n",
      "\n"
     ]
    }
   ],
   "source": [
    "# Method 2: Direct queries of DataFrames\n",
    "# DataFrame Operations:  https://spark.apache.org/docs/latest/api/python/pyspark.sql.html#pyspark.sql.DataFrame\n",
    "\n",
    "# Example: Get counts of values in each column of Claims data\n",
    "print df_lab_count_transformed.columns\n",
    "columns_for_analysis = [df_lab_count_transformed.columns]\n",
    "for column in columns_for_analysis:\n",
    "    df_lab_count_transformed.groupBy(column).count().show()"
   ]
  },
  {
   "cell_type": "code",
   "execution_count": 55,
   "metadata": {
    "collapsed": false
   },
   "outputs": [
    {
     "name": "stdout",
     "output_type": "stream",
     "text": [
      "['MemberID', 'AgeAtFirstClaim', 'Sex']\n",
      "+--------+---------------+---+-----+\n",
      "|MemberID|AgeAtFirstClaim|Sex|count|\n",
      "+--------+---------------+---+-----+\n",
      "|78509041|          30-39|  F|    1|\n",
      "|22691721|          50-59|  F|    1|\n",
      "|98346853|          40-49|  F|    1|\n",
      "|21083073|          40-49|  F|    1|\n",
      "|50878829|          50-59|  M|    1|\n",
      "|17999399|          70-79|  F|    1|\n",
      "|82856007|          50-59|  F|    1|\n",
      "|39310249|          70-79|NaN|    1|\n",
      "| 2730619|            80+|NaN|    1|\n",
      "|43938655|            NaN|  F|    1|\n",
      "|43335558|            0-9|  F|    1|\n",
      "|65801795|          40-49|  M|    1|\n",
      "|62531855|          50-59|  M|    1|\n",
      "|10664656|            NaN|NaN|    1|\n",
      "|51247486|          30-39|  M|    1|\n",
      "|80093553|          30-39|  M|    1|\n",
      "| 3385199|            0-9|  F|    1|\n",
      "|91942574|          30-39|NaN|    1|\n",
      "|89175415|            80+|NaN|    1|\n",
      "|12466319|          20-29|  F|    1|\n",
      "+--------+---------------+---+-----+\n",
      "only showing top 20 rows\n",
      "\n"
     ]
    }
   ],
   "source": [
    "# Method 2: Direct queries of DataFrames\n",
    "# DataFrame Operations:  https://spark.apache.org/docs/latest/api/python/pyspark.sql.html#pyspark.sql.DataFrame\n",
    "\n",
    "# Example: Get counts of values in each column of Claims data\n",
    "print df_members.columns\n",
    "columns_for_analysis = [df_members.columns]\n",
    "for column in columns_for_analysis:\n",
    "    df_members.groupBy(column).count().show()"
   ]
  },
  {
   "cell_type": "code",
   "execution_count": 60,
   "metadata": {
    "collapsed": false
   },
   "outputs": [
    {
     "name": "stdout",
     "output_type": "stream",
     "text": [
      "Show quick stats on target_y2\n",
      "+-------+--------------------+-------------------+-------------------+\n",
      "|summary|     ClaimsTruncated|     DaysInHospital|              label|\n",
      "+-------+--------------------+-------------------+-------------------+\n",
      "|  count|               76038|              76038|              76038|\n",
      "|   mean|0.052223888055972015|0.46709539966858676|0.18631966782696568|\n",
      "| stddev|  0.2224796721631427| 1.6121944972099531|0.48840945474128067|\n",
      "|    min|                   0|                0.0|                0.0|\n",
      "|    max|                   1|               15.0|  2.772588722239781|\n",
      "+-------+--------------------+-------------------+-------------------+\n",
      "\n",
      "==================================================\n",
      "Show quick stats on target_y3\n",
      "+-------+-------------------+-------------------+-------------------+\n",
      "|summary|    ClaimsTruncated|     DaysInHospital|              label|\n",
      "+-------+-------------------+-------------------+-------------------+\n",
      "|  count|              71435|              71435|              71435|\n",
      "|   mean|0.05661090501854833|0.43789458948694615| 0.1782120477234611|\n",
      "| stddev|0.23109923859730847| 1.5317802545374324|0.47409077216232137|\n",
      "|    min|                  0|                0.0|                0.0|\n",
      "|    max|                  1|               15.0|  2.772588722239781|\n",
      "+-------+-------------------+-------------------+-------------------+\n",
      "\n",
      "==================================================\n",
      "Show quick stats on target_y4\n",
      "+-------+-------------------+--------------+-----+\n",
      "|summary|    ClaimsTruncated|DaysInHospital|label|\n",
      "+-------+-------------------+--------------+-----+\n",
      "|  count|              70942|         70942|    0|\n",
      "|   mean|0.05593301570296862|           NaN| null|\n",
      "| stddev|0.22979394639855327|           NaN| null|\n",
      "|    min|                  0|           NaN| null|\n",
      "|    max|                  1|           NaN| null|\n",
      "+-------+-------------------+--------------+-----+\n",
      "\n",
      "==================================================\n",
      "Show quick stats on drug count\n",
      "+-------+------------------+\n",
      "|summary|        DrugCountI|\n",
      "+-------+------------------+\n",
      "|  count|            818241|\n",
      "|   mean| 2.772711218332985|\n",
      "| stddev|1.8212339176522272|\n",
      "|    min|                 1|\n",
      "|    max|                 7|\n",
      "+-------+------------------+\n",
      "\n",
      "==================================================\n",
      "Show quick stats on lab count\n",
      "+-------+------------------+\n",
      "|summary|         LabCountI|\n",
      "+-------+------------------+\n",
      "|  count|            361484|\n",
      "|   mean| 3.910391607927322|\n",
      "| stddev|2.7602498171102594|\n",
      "|    min|                 1|\n",
      "|    max|                10|\n",
      "+-------+------------------+\n",
      "\n"
     ]
    }
   ],
   "source": [
    "print('Show quick stats on target_y2')\n",
    "df_target_Y2_transformed.describe().show()\n",
    "print('='*50)\n",
    "\n",
    "print('Show quick stats on target_y3')\n",
    "df_target_Y3_transformed.describe().show()\n",
    "print('='*50)\n",
    "\n",
    "print('Show quick stats on target_y4')\n",
    "df_target_Y4_transformed.describe().show()\n",
    "print('='*50)\n",
    "\n",
    "# print df_claims_transformed\n",
    "\n",
    "print('Show quick stats on drug count')\n",
    "df_drug_count_transformed.describe().show()\n",
    "print('='*50)\n",
    "\n",
    "print('Show quick stats on lab count')\n",
    "df_lab_count_transformed.describe().show()"
   ]
  },
  {
   "cell_type": "code",
   "execution_count": 70,
   "metadata": {
    "collapsed": false
   },
   "outputs": [
    {
     "data": {
      "text/html": [
       "<div>\n",
       "<table border=\"1\" class=\"dataframe\">\n",
       "  <thead>\n",
       "    <tr style=\"text-align: right;\">\n",
       "      <th></th>\n",
       "      <th>ClaimsTruncated</th>\n",
       "      <th>DaysInHospital</th>\n",
       "      <th>label</th>\n",
       "    </tr>\n",
       "  </thead>\n",
       "  <tbody>\n",
       "    <tr>\n",
       "      <th>count</th>\n",
       "      <td>71435.000000</td>\n",
       "      <td>71435.000000</td>\n",
       "      <td>71435.000000</td>\n",
       "    </tr>\n",
       "    <tr>\n",
       "      <th>mean</th>\n",
       "      <td>0.056611</td>\n",
       "      <td>0.437895</td>\n",
       "      <td>0.178212</td>\n",
       "    </tr>\n",
       "    <tr>\n",
       "      <th>std</th>\n",
       "      <td>0.231099</td>\n",
       "      <td>1.531780</td>\n",
       "      <td>0.474091</td>\n",
       "    </tr>\n",
       "    <tr>\n",
       "      <th>min</th>\n",
       "      <td>0.000000</td>\n",
       "      <td>0.000000</td>\n",
       "      <td>0.000000</td>\n",
       "    </tr>\n",
       "    <tr>\n",
       "      <th>25%</th>\n",
       "      <td>0.000000</td>\n",
       "      <td>0.000000</td>\n",
       "      <td>0.000000</td>\n",
       "    </tr>\n",
       "    <tr>\n",
       "      <th>50%</th>\n",
       "      <td>0.000000</td>\n",
       "      <td>0.000000</td>\n",
       "      <td>0.000000</td>\n",
       "    </tr>\n",
       "    <tr>\n",
       "      <th>75%</th>\n",
       "      <td>0.000000</td>\n",
       "      <td>0.000000</td>\n",
       "      <td>0.000000</td>\n",
       "    </tr>\n",
       "    <tr>\n",
       "      <th>max</th>\n",
       "      <td>1.000000</td>\n",
       "      <td>15.000000</td>\n",
       "      <td>2.772589</td>\n",
       "    </tr>\n",
       "  </tbody>\n",
       "</table>\n",
       "</div>"
      ],
      "text/plain": [
       "       ClaimsTruncated  DaysInHospital         label\n",
       "count     71435.000000    71435.000000  71435.000000\n",
       "mean          0.056611        0.437895      0.178212\n",
       "std           0.231099        1.531780      0.474091\n",
       "min           0.000000        0.000000      0.000000\n",
       "25%           0.000000        0.000000      0.000000\n",
       "50%           0.000000        0.000000      0.000000\n",
       "75%           0.000000        0.000000      0.000000\n",
       "max           1.000000       15.000000      2.772589"
      ]
     },
     "execution_count": 70,
     "metadata": {},
     "output_type": "execute_result"
    }
   ],
   "source": [
    "df_target_Y2_transformed.toPandas().describe()"
   ]
  },
  {
   "cell_type": "code",
   "execution_count": 75,
   "metadata": {
    "collapsed": false
   },
   "outputs": [
    {
     "data": {
      "text/plain": [
       "array([[<matplotlib.axes._subplots.AxesSubplot object at 0x7fafa4c7fdd0>,\n",
       "        <matplotlib.axes._subplots.AxesSubplot object at 0x7faf953b01d0>],\n",
       "       [<matplotlib.axes._subplots.AxesSubplot object at 0x7faf958b1710>,\n",
       "        <matplotlib.axes._subplots.AxesSubplot object at 0x7faf95989490>]], dtype=object)"
      ]
     },
     "execution_count": 75,
     "metadata": {},
     "output_type": "execute_result"
    },
    {
     "data": {
      "image/png": "[encoded data removed]",
      "text/plain": [
       "<matplotlib.figure.Figure at 0x7fafa5524590>"
      ]
     },
     "metadata": {},
     "output_type": "display_data"
    }
   ],
   "source": [
    "df_target_Y2_transformed.toPandas().hist()"
   ]
  },
  {
   "cell_type": "code",
   "execution_count": 71,
   "metadata": {
    "collapsed": false
   },
   "outputs": [
    {
     "data": {
      "text/html": [
       "<div>\n",
       "<table border=\"1\" class=\"dataframe\">\n",
       "  <thead>\n",
       "    <tr style=\"text-align: right;\">\n",
       "      <th></th>\n",
       "      <th>ClaimsTruncated</th>\n",
       "      <th>DaysInHospital</th>\n",
       "      <th>label</th>\n",
       "    </tr>\n",
       "  </thead>\n",
       "  <tbody>\n",
       "    <tr>\n",
       "      <th>count</th>\n",
       "      <td>71435.000000</td>\n",
       "      <td>71435.000000</td>\n",
       "      <td>71435.000000</td>\n",
       "    </tr>\n",
       "    <tr>\n",
       "      <th>mean</th>\n",
       "      <td>0.056611</td>\n",
       "      <td>0.437895</td>\n",
       "      <td>0.178212</td>\n",
       "    </tr>\n",
       "    <tr>\n",
       "      <th>std</th>\n",
       "      <td>0.231099</td>\n",
       "      <td>1.531780</td>\n",
       "      <td>0.474091</td>\n",
       "    </tr>\n",
       "    <tr>\n",
       "      <th>min</th>\n",
       "      <td>0.000000</td>\n",
       "      <td>0.000000</td>\n",
       "      <td>0.000000</td>\n",
       "    </tr>\n",
       "    <tr>\n",
       "      <th>25%</th>\n",
       "      <td>0.000000</td>\n",
       "      <td>0.000000</td>\n",
       "      <td>0.000000</td>\n",
       "    </tr>\n",
       "    <tr>\n",
       "      <th>50%</th>\n",
       "      <td>0.000000</td>\n",
       "      <td>0.000000</td>\n",
       "      <td>0.000000</td>\n",
       "    </tr>\n",
       "    <tr>\n",
       "      <th>75%</th>\n",
       "      <td>0.000000</td>\n",
       "      <td>0.000000</td>\n",
       "      <td>0.000000</td>\n",
       "    </tr>\n",
       "    <tr>\n",
       "      <th>max</th>\n",
       "      <td>1.000000</td>\n",
       "      <td>15.000000</td>\n",
       "      <td>2.772589</td>\n",
       "    </tr>\n",
       "  </tbody>\n",
       "</table>\n",
       "</div>"
      ],
      "text/plain": [
       "       ClaimsTruncated  DaysInHospital         label\n",
       "count     71435.000000    71435.000000  71435.000000\n",
       "mean          0.056611        0.437895      0.178212\n",
       "std           0.231099        1.531780      0.474091\n",
       "min           0.000000        0.000000      0.000000\n",
       "25%           0.000000        0.000000      0.000000\n",
       "50%           0.000000        0.000000      0.000000\n",
       "75%           0.000000        0.000000      0.000000\n",
       "max           1.000000       15.000000      2.772589"
      ]
     },
     "execution_count": 71,
     "metadata": {},
     "output_type": "execute_result"
    }
   ],
   "source": [
    "df_target_Y3_transformed.toPandas().describe()"
   ]
  },
  {
   "cell_type": "code",
   "execution_count": 76,
   "metadata": {
    "collapsed": false
   },
   "outputs": [
    {
     "data": {
      "text/plain": [
       "array([[<matplotlib.axes._subplots.AxesSubplot object at 0x7faf9ddaf550>,\n",
       "        <matplotlib.axes._subplots.AxesSubplot object at 0x7faf959501d0>],\n",
       "       [<matplotlib.axes._subplots.AxesSubplot object at 0x7faf949e3710>,\n",
       "        <matplotlib.axes._subplots.AxesSubplot object at 0x7faf95b79310>]], dtype=object)"
      ]
     },
     "execution_count": 76,
     "metadata": {},
     "output_type": "execute_result"
    },
    {
     "data": {
      "image/png": "[encoded data removed]",
      "text/plain": [
       "<matplotlib.figure.Figure at 0x7fafa4163a10>"
      ]
     },
     "metadata": {},
     "output_type": "display_data"
    }
   ],
   "source": [
    "df_target_Y3_transformed.toPandas().hist()"
   ]
  },
  {
   "cell_type": "code",
   "execution_count": 74,
   "metadata": {
    "collapsed": false
   },
   "outputs": [
    {
     "data": {
      "text/html": [
       "<div>\n",
       "<table border=\"1\" class=\"dataframe\">\n",
       "  <thead>\n",
       "    <tr style=\"text-align: right;\">\n",
       "      <th></th>\n",
       "      <th>ClaimsTruncated</th>\n",
       "      <th>DaysInHospital</th>\n",
       "    </tr>\n",
       "  </thead>\n",
       "  <tbody>\n",
       "    <tr>\n",
       "      <th>count</th>\n",
       "      <td>70942.000000</td>\n",
       "      <td>0.0</td>\n",
       "    </tr>\n",
       "    <tr>\n",
       "      <th>mean</th>\n",
       "      <td>0.055933</td>\n",
       "      <td>NaN</td>\n",
       "    </tr>\n",
       "    <tr>\n",
       "      <th>std</th>\n",
       "      <td>0.229794</td>\n",
       "      <td>NaN</td>\n",
       "    </tr>\n",
       "    <tr>\n",
       "      <th>min</th>\n",
       "      <td>0.000000</td>\n",
       "      <td>NaN</td>\n",
       "    </tr>\n",
       "    <tr>\n",
       "      <th>25%</th>\n",
       "      <td>0.000000</td>\n",
       "      <td>NaN</td>\n",
       "    </tr>\n",
       "    <tr>\n",
       "      <th>50%</th>\n",
       "      <td>0.000000</td>\n",
       "      <td>NaN</td>\n",
       "    </tr>\n",
       "    <tr>\n",
       "      <th>75%</th>\n",
       "      <td>0.000000</td>\n",
       "      <td>NaN</td>\n",
       "    </tr>\n",
       "    <tr>\n",
       "      <th>max</th>\n",
       "      <td>1.000000</td>\n",
       "      <td>NaN</td>\n",
       "    </tr>\n",
       "  </tbody>\n",
       "</table>\n",
       "</div>"
      ],
      "text/plain": [
       "       ClaimsTruncated  DaysInHospital\n",
       "count     70942.000000             0.0\n",
       "mean          0.055933             NaN\n",
       "std           0.229794             NaN\n",
       "min           0.000000             NaN\n",
       "25%           0.000000             NaN\n",
       "50%           0.000000             NaN\n",
       "75%           0.000000             NaN\n",
       "max           1.000000             NaN"
      ]
     },
     "execution_count": 74,
     "metadata": {},
     "output_type": "execute_result"
    }
   ],
   "source": [
    "df_target_Y4_transformed.toPandas().describe()"
   ]
  },
  {
   "cell_type": "code",
   "execution_count": 77,
   "metadata": {
    "collapsed": false
   },
   "outputs": [
    {
     "data": {
      "text/plain": [
       "array([[<matplotlib.axes._subplots.AxesSubplot object at 0x7faf95b70f10>,\n",
       "        <matplotlib.axes._subplots.AxesSubplot object at 0x7faf94df1910>]], dtype=object)"
      ]
     },
     "execution_count": 77,
     "metadata": {},
     "output_type": "execute_result"
    },
    {
     "data": {
      "image/png": "[encoded data removed]",
      "text/plain": [
       "<matplotlib.figure.Figure at 0x7faf9ea2ed90>"
      ]
     },
     "metadata": {},
     "output_type": "display_data"
    }
   ],
   "source": [
    "df_target_Y4_transformed.toPandas().hist()"
   ]
  },
  {
   "cell_type": "code",
   "execution_count": null,
   "metadata": {
    "collapsed": true
   },
   "outputs": [],
   "source": []
  }
 ],
 "metadata": {
  "kernelspec": {
   "display_name": "Python 2",
   "language": "python",
   "name": "python2"
  },
  "language_info": {
   "codemirror_mode": {
    "name": "ipython",
    "version": 2
   },
   "file_extension": ".py",
   "mimetype": "text/x-python",
   "name": "python",
   "nbconvert_exporter": "python",
   "pygments_lexer": "ipython2",
   "version": "2.7.12"
  },
  "widgets": {
   "state": {},
   "version": "1.1.2"
  }
 },
 "nbformat": 4,
 "nbformat_minor": 0
}
