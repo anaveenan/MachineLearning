{
 "cells": [
  {
   "cell_type": "code",
   "execution_count": 56,
   "metadata": {
    "collapsed": false
   },
   "outputs": [
    {
     "name": "stdout",
     "output_type": "stream",
     "text": [
      "Linear Regression Model is b = 0.013148 m = 1.078934 m2 = 1.058534\n"
     ]
    }
   ],
   "source": [
    "def gradientDescentIteration(b_current, m_current, m2_current, points, learningRate):\n",
    "    b_gradient = 0\n",
    "    m_gradient = 0\n",
    "    m2_gradient = 0\n",
    "    yIndx = len(data[0])-2\n",
    "    y2Indx = len(data[0])-1 \n",
    "    N = float(len(points))\n",
    "    # calculate the gradient for b and m over all the training data points\n",
    "    for i in range(0, len(points)):\n",
    "        b_gradient += -(2/N) * (points[i][yIndx] - ((m_current*points[i][0])+(m2_current*points[i][0]) + b_current))\n",
    "        m_gradient += -(2/N) * points[i][0] * (points[i][yIndx] - ((m_current * points[i][0]) + b_current))\n",
    "        m2_gradient += -(2/N) * points[i][0] * (points[i][y2Indx] - ((m_current * points[i][0]) + b_current))\n",
    "    #gradient update step\n",
    "    new_b = b_current - (learningRate * b_gradient)\n",
    "    new_m = m_current - (learningRate * m_gradient)\n",
    "    new_m2 = m2_current - (learningRate * m2_gradient)\n",
    "    return [new_b, new_m, new_m2]\n",
    "#data in the of tuples [x, y]\n",
    "data = [[1, 3, 2], [2,20, 3], [3,5, 7], [4, 5, 8], [5, 9, 9]]\n",
    "b = 0\n",
    "m = 1\n",
    "m2 = 1\n",
    "weightVector = [b, m, m2]\n",
    "#for n gradient iterations refine the weight vector\n",
    "for i in range(30):\n",
    "    weightVector = gradientDescentIteration(weightVector[0], weightVector[1], weightVector[2], data, 0.0001)\n",
    "print \"Linear Regression Model is b = %f m = %f m2 = %f\" %(weightVector[0], weightVector[1], weightVector[2]  )"
   ]
  },
  {
   "cell_type": "code",
   "execution_count": null,
   "metadata": {
    "collapsed": true
   },
   "outputs": [],
   "source": []
  }
 ],
 "metadata": {
  "kernelspec": {
   "display_name": "Python 2",
   "language": "python",
   "name": "python2"
  },
  "language_info": {
   "codemirror_mode": {
    "name": "ipython",
    "version": 2
   },
   "file_extension": ".py",
   "mimetype": "text/x-python",
   "name": "python",
   "nbconvert_exporter": "python",
   "pygments_lexer": "ipython2",
   "version": "2.7.11"
  }
 },
 "nbformat": 4,
 "nbformat_minor": 0
}
