{
 "cells": [
  {
   "cell_type": "markdown",
   "metadata": {},
   "source": [
    "# Zuehlke HW Assignment 2\n",
    "\n",
    "## Done on a Mac, for a Mac\n",
    "\n",
    "\n",
    "=====DAMLAS ASSIGNMENT # 2=====\n",
    "\n",
    "Data Analytics and Machine Learning at Scale\n",
    "Target, Minneapolis\n",
    "\n",
    "ASSIGNMENT #2\n",
    "Version 2016-06-26\n",
    "Prepared by Dr. James G. Shanahan\n",
    "\n",
    "\n",
    "SCHEDULE: This Homework is due by  Friday, July 8, 2016 at 11 AM (Central Time).\n",
    "\n",
    "\n",
    "=== INSTRUCTIONS for SUBMISSIONS ===\n",
    "Follow the instructions for submissions carefully.\n",
    "\n",
    "Prepare a single Jupyter note, please include questions, and question numbers in the questions and in the responses.\n",
    "Submit your homework notebook via the following form:\n",
    "\n",
    "   + http://goo.gl/forms/er3OFr5eCMWDngB72\n",
    "\n",
    "\n",
    "=== Other BACKGROUND INFORMATION\n",
    "This Homework, you will need to use a map-reduce framework to solve all  problems involving data. You can use MrJob or raw Hadoop mapreduce streaming.\n",
    "\n",
    "The following notebook serves as a useful Notebook to extend for this Homework (loaded with examples and boiler plate code)\n",
    "\n",
    "   +  https://www.dropbox.com/s/pjd6maluq4ogt7m/HW02-Supporting-Material.ipynb?dl=0\n",
    "\n",
    "Please refer to the following slides and reference material for more background\n",
    "\n",
    "\n",
    "Pattern in MapReduce : \n",
    "\n",
    "    + Lin, Jimmy, & Dyer, Chris. (2010). Data-intensive text processing with MapReduce. \n",
    "      San Rafael, CA: Morgan & Claypool Publishers. \n",
    "      Chapter 3\n",
    "      Book available here: https://lintool.github.io/MapReduceAlgorithms/MapReduce-book-final.pdf\n",
    "\n",
    "   + Chapter 2 in this book: Hadoop with MRJob (calculater salare average etc.) \n",
    "          -  https://www.dropbox.com/s/jd3z2s216p9kc1z/hadoop-with-python-MRJOB.pdf?dl=0\n",
    "          -  Source code: https://www.dropbox.com/sh/j8oettuxbgztk0p/AAAwq9PpEeByecDmaSNslnBPa?dl=0\n",
    "\n",
    "   + http://mrjob.readthedocs.io/en/latest/\n",
    "\n",
    "Counters in MRJob\n",
    "   + http://nbviewer.jupyter.org/urls/dl.dropbox.com/s/5thl14n4pqvhzt5/Counter.ipynb \n",
    "\n",
    "KMeans Clustering (a form of Flat clustering)\n",
    "   + Slides:  https://www.dropbox.com/s/6ef1mlrqr3xpnw0/Lecture07.1-Clustering.pdf?dl=0\n",
    "   + http://nlp.stanford.edu/IR-book/pdf/16flat.pdf\n",
    "   + http://nbviewer.jupyter.org/urls/dl.dropbox.com/s/dcw8evd9v0su3xu/K_Means_Unit_Test_Notebook.ipynb\n",
    "\n",
    "\n",
    "\n",
    "=== SERVER with MRJob installed\n",
    "\n",
    "http://ec2-52-201-222-181.compute-1.amazonaws.com:8000\n",
    "\n",
    " you will need a password to access.\n",
    "\n",
    "Dont forget to save your notebooks REGULARLY to your local laptops (as the cluster could crash without warning)"
   ]
  },
  {
   "cell_type": "markdown",
   "metadata": {
    "collapsed": true
   },
   "source": [
    "# HW2.0 Done\n",
    "## How do you merge  two sorted  lists/arrays of records of the form [key, value]? Where is this  used in Hadoop MapReduce?\n",
    "\n",
    "### _Assuming the lists are already sorted, compare the first element from each list and take the lesser element and add to a new sortedlist.  Then compare the larger of first elements with the next in the other, take the smaller and add to the sorted list. Repeat this process until both original lists have been completely parsed.  Here is some code to demonstrate further._\n",
    "\n",
    "```\n",
    "def mergeSortedLists(a,b):  #  Define class called mergeSortedLists with inputs a and b.  a and b are already sorted.\n",
    "    SortedList = []  # Instantiate SortedList empty list.\n",
    "    while a and b:   # Execute this loop until either a or b has been completely parsed.\n",
    "        if a[0] < b[0] :  # If the first element of a is less than b...\n",
    "            SortedList.append(a.pop(0)) # Take the first element of a and add it to SortedList.\n",
    "        else:             # If the first element of a is not less than b...\n",
    "            SortedList.append(b.pop(0)) # Take the first element of b and add it to SortedList.  Repeat this until both are empty.\n",
    "    return SortedList + a + b  Return SortedList + any remaining elements of a and b (the very last one done).\n",
    "\n",
    "```\n",
    "\n",
    "### _The process is done in the shuffle phase, between the mapper and reducer, to further simplify the reducer's load by providing fewer, sorted lists to perform the reducer tasks on._\n",
    "\n",
    "## What is  a combiner function in the context of Hadoop?  Give an example where it can be used and justify why it should be used in the context of this problem.\n",
    "\n",
    "### _A combiner is used between mapper and reducer to reduce the data transfer between mapper and reducer as a sort of \"pre reducer.\"  An example of where a combiner should be used (other than always) is with the Wordcount problem with a large dictionary.  Because there could be a large number of records coming from each mapper, the reducer could get overtaxed, which would lead to either a crash or a large amount of time to complete.  The combiner will act as an \"in-mapper reducer\" and consolidate the output from the mapper by combining similar keys.  This way, fewer records are passed to the reducer.  This speeds up the process and reduces the risk of system crash._\n",
    "\n",
    "## What is the Hadoop shuffle?\n",
    "### _The Hadoop shuffle is the process of moving key-value pairs from the a mapper to the reducer.  As data is being moved from mapper to reducer, it is being sorted to simplify the reducer's processing.  In the example of word count, a word appearing more than one time in the mapper's output to the reducer will be sorted together, so the reducer doesn't have to parse the entire input in order to aggregate._"
   ]
  },
  {
   "cell_type": "markdown",
   "metadata": {},
   "source": [
    "# HW2.1\n",
    "## Counters as a debugging aid (and for getting work done, but please use sparingly as they are heavy)\n",
    "\n",
    "Consumer complaints dataset: Use Counters to do EDA (exploratory data analysis and to monitor progress)\n",
    "Counters are lightweight objects in Hadoop that allow you to keep track of system progress in both the map and reduce stages of processing. By default, Hadoop defines a number of standard counters in \"groups\"; these show up in the jobtracker webapp, giving you information such as \"Map input records\", \"Map output records\", etc. \n",
    "\n",
    "While processing information/data using MapReduce job, it is a challenge to monitor the progress of parallel threads running across nodes of distributed clusters. Moreover, it is also complicated to distinguish between the data that has been processed and the data which is yet to be processed. The MapReduce Framework offers a provision of user-defined Counters, which can be effectively utilized to monitor the progress of data across nodes of distributed clusters.\n",
    "\n",
    "Use the Consumer Complaints  Dataset provide here to complete this question:\n",
    "\n",
    "     https://www.dropbox.com/s/vbalm3yva2rr86m/Consumer_Complaints.csv?dl=0\n",
    "\n",
    "Use the following command to grab the file:\n",
    "\n",
    "    curl -L https://www.dropbox.com/s/vbalm3yva2rr86m/Consumer_Complaints.csv?dl=0 -o Consumer_Complaints.csv\n",
    "\n",
    "The consumer complaints dataset consists of diverse consumer complaints, which have been reported across the United States regarding various types of loans. The dataset consists of records of the form:\n",
    "\n",
    "Complaint ID,Product,Sub-product,Issue,Sub-issue,State,ZIP code,Submitted via,Date received,Date sent to company,Company,Company response,Timely response?,Consumer disputed?\n",
    "\n",
    "Here’s is the first few lines of the  of the Consumer Complaints  Dataset:\n",
    "\n",
    "Complaint ID,Product,Sub-product,Issue,Sub-issue,State,ZIP code,Submitted via,Date received,Date sent to company,Company,Company response,Timely response?,Consumer disputed?\n",
    "1114245,Debt collection,Medical,Disclosure verification of debt,Not given enough info to verify debt,FL,32219,Web,11/13/2014,11/13/2014,\"Choice Recovery, Inc.\",Closed with explanation,Yes,\n",
    "1114488,Debt collection,Medical,Disclosure verification of debt,Right to dispute notice not received,TX,75006,Web,11/13/2014,11/13/2014,\"Expert Global Solutions, Inc.\",In progress,Yes,\n",
    "1114255,Bank account or service,Checking account,Deposits and withdrawals,,NY,11102,Web,11/13/2014,11/13/2014,\"FNIS (Fidelity National Information Services, Inc.)\",In progress,Yes,\n",
    "1115106,Debt collection,\"Other (phone, health club, etc.)\",Communication tactics,Frequent or repeated calls,GA,31721,Web,11/13/2014,11/13/2014,\"Expert Global Solutions, Inc.\",In progress,Yes,\n",
    "\n",
    "User-defined Counters\n",
    "\n",
    "Now, let’s use MapReduce Counters to identify the number of complaints pertaining to debt collection, mortgage and other categories (all other categories get lumped into this one) in the consumer complaints dataset. Basically produce the distribution of the Product column in this dataset using counters (limited to 3 counters here).\n",
    "\n",
    "Hadoop offers Job Tracker, an UI tool to determine the status and statistics of all jobs. Using the job tracker UI, developers can view the Counters that have been created. Screenshot your  job tracker UI as your job completes and include it here. Make sure that your user defined counters are visible. \n"
   ]
  },
  {
   "cell_type": "markdown",
   "metadata": {},
   "source": [
    "### _Pull data from the website and load into Consumer__Complaints csv, loaded into memory._"
   ]
  },
  {
   "cell_type": "code",
   "execution_count": 1,
   "metadata": {
    "collapsed": false
   },
   "outputs": [
    {
     "name": "stdout",
     "output_type": "stream",
     "text": [
      "  % Total    % Received % Xferd  Average Speed   Time    Time     Time  Current\n",
      "                                 Dload  Upload   Total   Spent    Left  Speed\n",
      "  0     0    0     0    0     0      0      0 --:--:-- --:--:-- --:--:--     0\n",
      "100 48.5M  100 48.5M    0     0  12.4M      0  0:00:03  0:00:03 --:--:-- 16.0M\n"
     ]
    }
   ],
   "source": [
    "!curl -L https://www.dropbox.com/s/vbalm3yva2rr86m/Consumer_Complaints.csv?dl=0 -o Consumer_Complaints.csv"
   ]
  },
  {
   "cell_type": "code",
   "execution_count": 1,
   "metadata": {
    "collapsed": false
   },
   "outputs": [
    {
     "name": "stdout",
     "output_type": "stream",
     "text": [
      "Writing ComplaintCountByTypeHW21.py\n"
     ]
    }
   ],
   "source": [
    "%%writefile ComplaintCountByTypeHW21.py\n",
    "\n",
    "from mrjob.job import MRJob\n",
    "\n",
    "class ComplaintCountByType(MRJob):\n",
    "    \n",
    "    def mapper(self, _, line):\n",
    "        line = line.decode('utf8', 'ignore')\n",
    "        \n",
    "        complaint_id, product, _ = line.split(',', 2)\n",
    "        del _\n",
    "        \n",
    "        try:\n",
    "            int(complaint_id)\n",
    "        except: \n",
    "            return\n",
    "        if product.lower() != 'product':\n",
    "            if product.lower() == 'debt collection':\n",
    "                self.increment_counter('complaint_type', 'debt collection', 1)  \n",
    "            elif product.lower() == 'mortgage':\n",
    "                self.increment_counter('complaint_type', 'mortgage', 1)        \n",
    "            else:\n",
    "                self.increment_counter('complaint_type', 'other', 1) \n",
    "            \n",
    "\n",
    "#The below combiners and reducers aren't required, but in order to keep consistency in alway using mapper/reducer \n",
    "#(always combiner!), I'm including them.\n",
    "\n",
    "    def combiner(self, complainttype, complaintcount):\n",
    "        yield complainttype, sum(complaintcount)\n",
    "\n",
    "    def reducer(self, complainttype, complaintcount):\n",
    "        yield complainttype, sum(complaintcount)\n",
    "        \n",
    "if __name__ == '__main__':\n",
    "    ComplaintCountByType.run()"
   ]
  },
  {
   "cell_type": "code",
   "execution_count": 2,
   "metadata": {
    "collapsed": false
   },
   "outputs": [
    {
     "name": "stdout",
     "output_type": "stream",
     "text": [
      "[{'complaint_type': {'debt collection': 44372, 'other': 142788, 'mortgage': 125752}}]\n"
     ]
    }
   ],
   "source": [
    "%reload_ext autoreload\n",
    "%autoreload 2\n",
    "from ComplaintCountByTypeHW21 import ComplaintCountByType\n",
    "mr_job = ComplaintCountByType(args=['Consumer_Complaints.csv'])\n",
    "with mr_job.make_runner() as runner: \n",
    "    runner.run()\n",
    "    print runner.counters()"
   ]
  },
  {
   "cell_type": "markdown",
   "metadata": {},
   "source": [
    "# HW2.2 Done\n",
    "\n",
    "## Analyze the performance of your Mappers, Combiners and Reducers using Counters\n",
    "\n",
    "For this brief study the Input file will be one record (the next line only): \n",
    "foo foo quux labs foo bar quux"
   ]
  },
  {
   "cell_type": "code",
   "execution_count": 4,
   "metadata": {
    "collapsed": true
   },
   "outputs": [],
   "source": [
    "!echo foo foo quux labs foo bar quux > WordLineH22.txt"
   ]
  },
  {
   "cell_type": "markdown",
   "metadata": {},
   "source": [
    "### HW2.2 Pt 1.1  Done\n",
    "\n",
    "Perform a word count analysis of this single record dataset using a Mapper and Reducer based WordCount (i.e., no combiners are used here) using user defined Counters to count up how many time the mapper and reducer are called. What is the value of your user defined Mapper Counter, and Reducer Counter after completing this word count job. The answer  should be 1 and 4 respectively. Please explain."
   ]
  },
  {
   "cell_type": "code",
   "execution_count": 5,
   "metadata": {
    "collapsed": false
   },
   "outputs": [
    {
     "name": "stdout",
     "output_type": "stream",
     "text": [
      "Writing MRWordCountFunCallHW2211.py\n"
     ]
    }
   ],
   "source": [
    "%%writefile MRWordCountFunCallHW2211.py\n",
    "\n",
    "from mrjob.job import MRJob\n",
    "import re\n",
    " \n",
    "WORD_RE = re.compile(r\"[\\w']+\")\n",
    " \n",
    "class MRWordCountFunCall(MRJob):\n",
    "\n",
    "    def mapper(self, _, line):\n",
    "        self.increment_counter('FunctionCalls', 'Mapper', 1)\n",
    "        for word in WORD_RE.findall(line):\n",
    "            yield word.lower(), 1\n",
    "\n",
    "    def reducer(self, word, counts):\n",
    "        self.increment_counter('FunctionCalls', 'Reducer', 1)\n",
    "        yield word, sum(counts)\n",
    "\n",
    "if __name__ == '__main__':\n",
    "    MRWordCountFunCall.run()"
   ]
  },
  {
   "cell_type": "code",
   "execution_count": 6,
   "metadata": {
    "collapsed": false,
    "scrolled": true
   },
   "outputs": [
    {
     "name": "stdout",
     "output_type": "stream",
     "text": [
      "[{'FunctionCalls': {'Mapper': 1, 'Reducer': 4}}]\n",
      "\"bar\"\t1\n",
      "\"foo\"\t3\n",
      "\"labs\"\t1\n",
      "\"quux\"\t2\n"
     ]
    }
   ],
   "source": [
    "%reload_ext autoreload\n",
    "%autoreload 2\n",
    "from MRWordCountFunCallHW2211 import MRWordCountFunCall\n",
    "mr_job = MRWordCountFunCall(args=['WordLineH22.txt'])\n",
    "with mr_job.make_runner() as runner: \n",
    "    runner.run()\n",
    "    print runner.counters()\n",
    "    for line in runner.stream_output():\n",
    "        print line.strip()"
   ]
  },
  {
   "cell_type": "markdown",
   "metadata": {},
   "source": [
    "_If you look at the txt file WordLineHW22's contents, 1 file = 1 mapper.  There are four distinct words, so each word is sent individually to the reducer from the mapper, therefore 4 reducer calls._"
   ]
  },
  {
   "cell_type": "markdown",
   "metadata": {},
   "source": [
    "### HW2.2 Pt 1.2 Done\n",
    "Perform a word count analysis of the Issue column of the Consumer Complaints  Dataset using a Mapper and Reducer based WordCount (i.e., no combiners used anywhere)  using user defined Counters to count up how many times the mapper and reducer are called. What is the value of your user defined Mapper Counter, and Reducer Counter after completing your word count job. "
   ]
  },
  {
   "cell_type": "code",
   "execution_count": 7,
   "metadata": {
    "collapsed": false
   },
   "outputs": [
    {
     "name": "stdout",
     "output_type": "stream",
     "text": [
      "Writing MRWordCountFunCallHW2212.py\n"
     ]
    }
   ],
   "source": [
    "%%writefile MRWordCountFunCallHW2212.py\n",
    "from mrjob.job import MRJob\n",
    "import re, string\n",
    " \n",
    "class MRWordCountFunCall(MRJob):\n",
    "    \n",
    "    def mapper(self, _, line):\n",
    "        \n",
    "        self.increment_counter('FunctionCalls', 'Num_mapper_calls', 1)\n",
    "        line = line.decode('utf8', 'ignore')\n",
    "        \n",
    "        complaint_id, complaint_type, sub_product, issue, _ = line.split(',', 4)\n",
    "\n",
    "        regex = re.compile('[%s]' % re.escape(string.punctuation))\n",
    "        issue = regex.sub(' ', issue.lower())\n",
    "        issue = re.sub( '\\s+', ' ', issue)\n",
    "\n",
    "        issue = issue.split()\n",
    "        \n",
    "        try:\n",
    "            int(complaint_id)\n",
    "        except: \n",
    "            return\n",
    "        \n",
    "        del complaint_type, sub_product, _\n",
    "\n",
    "        \n",
    "        for word in issue:\n",
    "            yield (word, 1)\n",
    "        \n",
    "    def reducer(self, word, counts):\n",
    "        self.increment_counter('FunctionCalls', 'Num_reducer_calls', 1)\n",
    "        yield (word, sum(counts))\n",
    "if __name__ == '__main__':\n",
    "    MRWordCountFunCall.run()"
   ]
  },
  {
   "cell_type": "code",
   "execution_count": 8,
   "metadata": {
    "collapsed": false,
    "scrolled": true
   },
   "outputs": [
    {
     "name": "stdout",
     "output_type": "stream",
     "text": [
      "[{'FunctionCalls': {'Num_mapper_calls': 312913, 'Num_reducer_calls': 172}}]\n",
      "\"a\"\t3503\n",
      "\"account\"\t20681\n",
      "\"acct\"\t163\n",
      "\"action\"\t2505\n",
      "\"advance\"\t240\n",
      "\"advertising\"\t1193\n",
      "\"amount\"\t98\n",
      "\"amt\"\t71\n",
      "\"an\"\t2505\n",
      "\"and\"\t16448\n",
      "\"application\"\t8868\n",
      "\"applied\"\t139\n",
      "\"apply\"\t118\n",
      "\"apr\"\t3431\n",
      "\"arbitration\"\t168\n",
      "\"are\"\t3821\n",
      "\"atm\"\t2422\n",
      "\"attempts\"\t11848\n",
      "\"available\"\t274\n",
      "\"balance\"\t597\n",
      "\"bank\"\t202\n",
      "\"bankruptcy\"\t222\n",
      "\"being\"\t5663\n",
      "\"billing\"\t8158\n",
      "\"by\"\t5663\n",
      "\"can\"\t1999\n",
      "\"cancelling\"\t2795\n",
      "\"card\"\t4405\n",
      "\"cash\"\t240\n",
      "\"caused\"\t5663\n",
      "\"changes\"\t350\n",
      "\"charged\"\t976\n",
      "\"charges\"\t131\n",
      "\"checks\"\t75\n",
      "\"closing\"\t2795\n",
      "\"club\"\t12545\n",
      "\"collect\"\t11848\n",
      "\"collection\"\t1907\n",
      "\"communication\"\t6920\n",
      "\"company\"\t4858\n",
      "\"cont\"\t11848\n",
      "\"contact\"\t3053\n",
      "\"convenience\"\t75\n",
      "\"costs\"\t4350\n",
      "\"credit\"\t55251\n",
      "\"credited\"\t92\n",
      "\"customer\"\t2734\n",
      "\"d\"\t11848\n",
      "\"day\"\t71\n",
      "\"dealing\"\t1944\n",
      "\"debit\"\t2422\n",
      "\"debt\"\t19309\n",
      "\"decision\"\t2774\n",
      "\"decrease\"\t1149\n",
      "\"delay\"\t243\n",
      "\"delinquent\"\t1061\n",
      "\"deposits\"\t10555\n",
      "\"determination\"\t1490\n",
      "\"did\"\t139\n",
      "\"didn\"\t925\n",
      "\"disclosure\"\t5214\n",
      "\"disclosures\"\t64\n",
      "\"dispute\"\t904\n",
      "\"disputes\"\t6938\n",
      "\"embezzlement\"\t3276\n",
      "\"expect\"\t807\n",
      "\"false\"\t2508\n",
      "\"fee\"\t3198\n",
      "\"fees\"\t807\n",
      "\"for\"\t929\n",
      "\"forbearance\"\t350\n",
      "\"fraud\"\t3842\n",
      "\"funds\"\t5663\n",
      "\"get\"\t4357\n",
      "\"getting\"\t291\n",
      "\"health\"\t12545\n",
      "\"i\"\t925\n",
      "\"identity\"\t4729\n",
      "\"illegal\"\t2505\n",
      "\"improper\"\t4309\n",
      "\"incorrect\"\t29133\n",
      "\"increase\"\t1149\n",
      "\"info\"\t2896\n",
      "\"information\"\t29069\n",
      "\"interest\"\t4238\n",
      "\"investigation\"\t4858\n",
      "\"issuance\"\t640\n",
      "\"issue\"\t1098\n",
      "\"issues\"\t538\n",
      "\"late\"\t1797\n",
      "\"lease\"\t6337\n",
      "\"lender\"\t2165\n",
      "\"line\"\t1732\n",
      "\"loan\"\t119630\n",
      "\"low\"\t5663\n",
      "\"making\"\t3226\n",
      "\"managing\"\t5006\n",
      "\"marketing\"\t1193\n",
      "\"missing\"\t64\n",
      "\"modification\"\t70487\n",
      "\"money\"\t413\n",
      "\"monitoring\"\t1453\n",
      "\"my\"\t10731\n",
      "\"not\"\t12353\n",
      "\"of\"\t10885\n",
      "\"on\"\t29069\n",
      "\"opening\"\t16205\n",
      "\"or\"\t22533\n",
      "\"other\"\t7886\n",
      "\"out\"\t1242\n",
      "\"overlimit\"\t127\n",
      "\"owed\"\t11848\n",
      "\"pay\"\t3821\n",
      "\"payment\"\t92\n",
      "\"payments\"\t3226\n",
      "\"payoff\"\t1155\n",
      "\"plans\"\t350\n",
      "\"practices\"\t1003\n",
      "\"privacy\"\t240\n",
      "\"problems\"\t9484\n",
      "\"process\"\t5505\n",
      "\"processing\"\t243\n",
      "\"promised\"\t274\n",
      "\"protection\"\t4139\n",
      "\"rate\"\t3431\n",
      "\"receive\"\t139\n",
      "\"received\"\t216\n",
      "\"receiving\"\t3226\n",
      "\"relations\"\t1367\n",
      "\"repay\"\t1647\n",
      "\"repaying\"\t3844\n",
      "\"report\"\t34903\n",
      "\"reporting\"\t6559\n",
      "\"representation\"\t2508\n",
      "\"rewards\"\t1002\n",
      "\"s\"\t4858\n",
      "\"sale\"\t139\n",
      "\"scam\"\t566\n",
      "\"score\"\t4357\n",
      "\"service\"\t1518\n",
      "\"servicer\"\t1944\n",
      "\"servicing\"\t36767\n",
      "\"settlement\"\t4350\n",
      "\"sharing\"\t2832\n",
      "\"shopping\"\t672\n",
      "\"statement\"\t1220\n",
      "\"statements\"\t2508\n",
      "\"stop\"\t131\n",
      "\"t\"\t2924\n",
      "\"tactics\"\t6920\n",
      "\"taking\"\t3747\n",
      "\"terms\"\t350\n",
      "\"the\"\t6248\n",
      "\"theft\"\t3276\n",
      "\"threatening\"\t2505\n",
      "\"to\"\t8401\n",
      "\"transaction\"\t1485\n",
      "\"transfer\"\t597\n",
      "\"unable\"\t8178\n",
      "\"underwriting\"\t2774\n",
      "\"unsolicited\"\t640\n",
      "\"use\"\t1477\n",
      "\"using\"\t2422\n",
      "\"verification\"\t5214\n",
      "\"was\"\t274\n",
      "\"when\"\t4095\n",
      "\"with\"\t1944\n",
      "\"withdrawals\"\t10555\n",
      "\"workout\"\t350\n",
      "\"wrong\"\t169\n",
      "\"you\"\t3821\n",
      "\"your\"\t3844\n"
     ]
    }
   ],
   "source": [
    "%reload_ext autoreload\n",
    "%autoreload 2\n",
    "from MRWordCountFunCallHW2212 import MRWordCountFunCall\n",
    "mr_job = MRWordCountFunCall(args=['Consumer_Complaints.csv'])\n",
    "with mr_job.make_runner() as runner: \n",
    "    runner.run()\n",
    "    print runner.counters()\n",
    "    for line in runner.stream_output():\n",
    "        print line.strip()"
   ]
  },
  {
   "cell_type": "markdown",
   "metadata": {},
   "source": [
    "Number of mapper calls: 312,913, Number of reducer calls: 172}}]"
   ]
  },
  {
   "cell_type": "markdown",
   "metadata": {},
   "source": [
    "### HW2.2 Pt 1.3 Done\n",
    "Perform a word count analysis of the Issue column of the Consumer Complaints  Dataset using a Mapper, Reducer, and standalone combiner (i.e., not an in-memory combiner) based WordCount using user defined Counters to count up how many time the mapper, combiner, reducer are called."
   ]
  },
  {
   "cell_type": "code",
   "execution_count": 1,
   "metadata": {
    "collapsed": false
   },
   "outputs": [
    {
     "name": "stdout",
     "output_type": "stream",
     "text": [
      "Writing MRWordCountFunCallHW2213.py\n"
     ]
    }
   ],
   "source": [
    "%%writefile MRWordCountFunCallHW2213.py\n",
    "from mrjob.job import MRJob\n",
    "from mrjob.job import MRStep\n",
    "import re, string\n",
    " \n",
    "class MRWordCountFunCallCombiner(MRJob):\n",
    "    \n",
    "    def steps(self):\n",
    "        return [\n",
    "            MRStep(\n",
    "                mapper=self.mapper,\n",
    "            ),\n",
    "            MRStep(   \n",
    "                combiner=self.combiner\n",
    "            ),\n",
    "            MRStep(\n",
    "                reducer=self.reducer  \n",
    "            )\n",
    "        ]\n",
    "    \n",
    "    def mapper(self, _, line):\n",
    "        \n",
    "        self.increment_counter('FunctionCalls', 'Num_mapper_calls', 1)\n",
    "        line = line.decode('utf8', 'ignore')\n",
    "        \n",
    "        complaint_id, complaint_type, sub_product, issue, _ = line.split(',', 4)\n",
    "\n",
    "        regex = re.compile('[%s]' % re.escape(string.punctuation))\n",
    "        issue = regex.sub(' ', issue.lower())\n",
    "        issue = re.sub( '\\s+', ' ', issue)\n",
    "\n",
    "        issue = issue.split()\n",
    "        \n",
    "        try:\n",
    "            int(complaint_id)\n",
    "        except: \n",
    "            return\n",
    "        \n",
    "        del complaint_type, sub_product, _\n",
    "\n",
    "        for word in issue:\n",
    "            yield word, 1\n",
    "            \n",
    "    def combiner(self, word, counts):\n",
    "        self.increment_counter('FunctionCalls', 'Num_combiner_calls', 1)\n",
    "        yield word, sum(counts)\n",
    "        \n",
    "    def reducer(self, word, counts):\n",
    "        self.increment_counter('FunctionCalls', 'Num_reducer_calls', 1)\n",
    "        yield word, sum(counts)\n",
    "        \n",
    "if __name__ == '__main__':\n",
    "    MRWordCountFunCallCombiner.run()  "
   ]
  },
  {
   "cell_type": "code",
   "execution_count": 2,
   "metadata": {
    "collapsed": false
   },
   "outputs": [
    {
     "name": "stdout",
     "output_type": "stream",
     "text": [
      "[{'FunctionCalls': {'Num_mapper_calls': 312913}}, {'FunctionCalls': {'Num_combiner_calls': 483}}, {'FunctionCalls': {'Num_reducer_calls': 172}}]\n",
      "\"a\"\t3503\n",
      "\"account\"\t20681\n",
      "\"acct\"\t163\n",
      "\"action\"\t2505\n",
      "\"advance\"\t240\n",
      "\"advertising\"\t1193\n",
      "\"amount\"\t98\n",
      "\"amt\"\t71\n",
      "\"an\"\t2505\n",
      "\"and\"\t16448\n",
      "\"application\"\t8868\n",
      "\"applied\"\t139\n",
      "\"apply\"\t118\n",
      "\"apr\"\t3431\n",
      "\"arbitration\"\t168\n",
      "\"are\"\t3821\n",
      "\"atm\"\t2422\n",
      "\"attempts\"\t11848\n",
      "\"available\"\t274\n",
      "\"balance\"\t597\n",
      "\"bank\"\t202\n",
      "\"bankruptcy\"\t222\n",
      "\"being\"\t5663\n",
      "\"billing\"\t8158\n",
      "\"by\"\t5663\n",
      "\"can\"\t1999\n",
      "\"cancelling\"\t2795\n",
      "\"card\"\t4405\n",
      "\"cash\"\t240\n",
      "\"caused\"\t5663\n",
      "\"changes\"\t350\n",
      "\"charged\"\t976\n",
      "\"charges\"\t131\n",
      "\"checks\"\t75\n",
      "\"closing\"\t2795\n",
      "\"club\"\t12545\n",
      "\"collect\"\t11848\n",
      "\"collection\"\t1907\n",
      "\"communication\"\t6920\n",
      "\"company\"\t4858\n",
      "\"cont\"\t11848\n",
      "\"contact\"\t3053\n",
      "\"convenience\"\t75\n",
      "\"costs\"\t4350\n",
      "\"credit\"\t55251\n",
      "\"credited\"\t92\n",
      "\"customer\"\t2734\n",
      "\"d\"\t11848\n",
      "\"day\"\t71\n",
      "\"dealing\"\t1944\n",
      "\"debit\"\t2422\n",
      "\"debt\"\t19309\n",
      "\"decision\"\t2774\n",
      "\"decrease\"\t1149\n",
      "\"delay\"\t243\n",
      "\"delinquent\"\t1061\n",
      "\"deposits\"\t10555\n",
      "\"determination\"\t1490\n",
      "\"did\"\t139\n",
      "\"didn\"\t925\n",
      "\"disclosure\"\t5214\n",
      "\"disclosures\"\t64\n",
      "\"dispute\"\t904\n",
      "\"disputes\"\t6938\n",
      "\"embezzlement\"\t3276\n",
      "\"expect\"\t807\n",
      "\"false\"\t2508\n",
      "\"fee\"\t3198\n",
      "\"fees\"\t807\n",
      "\"for\"\t929\n",
      "\"forbearance\"\t350\n",
      "\"fraud\"\t3842\n",
      "\"funds\"\t5663\n",
      "\"get\"\t4357\n",
      "\"getting\"\t291\n",
      "\"health\"\t12545\n",
      "\"i\"\t925\n",
      "\"identity\"\t4729\n",
      "\"illegal\"\t2505\n",
      "\"improper\"\t4309\n",
      "\"incorrect\"\t29133\n",
      "\"increase\"\t1149\n",
      "\"info\"\t2896\n",
      "\"information\"\t29069\n",
      "\"interest\"\t4238\n",
      "\"investigation\"\t4858\n",
      "\"issuance\"\t640\n",
      "\"issue\"\t1098\n",
      "\"issues\"\t538\n",
      "\"late\"\t1797\n",
      "\"lease\"\t6337\n",
      "\"lender\"\t2165\n",
      "\"line\"\t1732\n",
      "\"loan\"\t119630\n",
      "\"low\"\t5663\n",
      "\"making\"\t3226\n",
      "\"managing\"\t5006\n",
      "\"marketing\"\t1193\n",
      "\"missing\"\t64\n",
      "\"modification\"\t70487\n",
      "\"money\"\t413\n",
      "\"monitoring\"\t1453\n",
      "\"my\"\t10731\n",
      "\"not\"\t12353\n",
      "\"of\"\t10885\n",
      "\"on\"\t29069\n",
      "\"opening\"\t16205\n",
      "\"or\"\t22533\n",
      "\"other\"\t7886\n",
      "\"out\"\t1242\n",
      "\"overlimit\"\t127\n",
      "\"owed\"\t11848\n",
      "\"pay\"\t3821\n",
      "\"payment\"\t92\n",
      "\"payments\"\t3226\n",
      "\"payoff\"\t1155\n",
      "\"plans\"\t350\n",
      "\"practices\"\t1003\n",
      "\"privacy\"\t240\n",
      "\"problems\"\t9484\n",
      "\"process\"\t5505\n",
      "\"processing\"\t243\n",
      "\"promised\"\t274\n",
      "\"protection\"\t4139\n",
      "\"rate\"\t3431\n",
      "\"receive\"\t139\n",
      "\"received\"\t216\n",
      "\"receiving\"\t3226\n",
      "\"relations\"\t1367\n",
      "\"repay\"\t1647\n",
      "\"repaying\"\t3844\n",
      "\"report\"\t34903\n",
      "\"reporting\"\t6559\n",
      "\"representation\"\t2508\n",
      "\"rewards\"\t1002\n",
      "\"s\"\t4858\n",
      "\"sale\"\t139\n",
      "\"scam\"\t566\n",
      "\"score\"\t4357\n",
      "\"service\"\t1518\n",
      "\"servicer\"\t1944\n",
      "\"servicing\"\t36767\n",
      "\"settlement\"\t4350\n",
      "\"sharing\"\t2832\n",
      "\"shopping\"\t672\n",
      "\"statement\"\t1220\n",
      "\"statements\"\t2508\n",
      "\"stop\"\t131\n",
      "\"t\"\t2924\n",
      "\"tactics\"\t6920\n",
      "\"taking\"\t3747\n",
      "\"terms\"\t350\n",
      "\"the\"\t6248\n",
      "\"theft\"\t3276\n",
      "\"threatening\"\t2505\n",
      "\"to\"\t8401\n",
      "\"transaction\"\t1485\n",
      "\"transfer\"\t597\n",
      "\"unable\"\t8178\n",
      "\"underwriting\"\t2774\n",
      "\"unsolicited\"\t640\n",
      "\"use\"\t1477\n",
      "\"using\"\t2422\n",
      "\"verification\"\t5214\n",
      "\"was\"\t274\n",
      "\"when\"\t4095\n",
      "\"with\"\t1944\n",
      "\"withdrawals\"\t10555\n",
      "\"workout\"\t350\n",
      "\"wrong\"\t169\n",
      "\"you\"\t3821\n",
      "\"your\"\t3844\n"
     ]
    }
   ],
   "source": [
    "%reload_ext autoreload\n",
    "%autoreload 2\n",
    "from MRWordCountFunCallHW2213 import MRWordCountFunCallCombiner\n",
    "mr_job = MRWordCountFunCallCombiner(args=['Consumer_Complaints.csv'])\n",
    "with mr_job.make_runner() as runner: \n",
    "    runner.run()\n",
    "    print runner.counters()\n",
    "    for line in runner.stream_output():\n",
    "        print line.strip()"
   ]
  },
  {
   "cell_type": "markdown",
   "metadata": {},
   "source": [
    "#### What is the value of your user defined Mapper Counter, combiner counter, and Reducer Counter after completing your word count job. "
   ]
  },
  {
   "cell_type": "markdown",
   "metadata": {},
   "source": [
    "Number of mapper calls:  312,913.  Number of reducer calls:  172.  Number of combiner calls:  172"
   ]
  },
  {
   "cell_type": "markdown",
   "metadata": {},
   "source": [
    "### HW2.2.1 Done\n",
    "Using a single reducer perform a sort of the words in decreasing order of word counts. Present the top 50 terms and their frequency. If there are ties please sort the tokens in alphanumeric/string order. \n",
    "\n",
    "HINT: You will need a second MRStep for the sort part. Step 1 will be the usual word count, while step 2 will be a sort step. Please use the Hadoop/MRJob framework to perform the sort. Please do NOT use any of the built-in sorts  from  python."
   ]
  },
  {
   "cell_type": "code",
   "execution_count": 18,
   "metadata": {
    "collapsed": false
   },
   "outputs": [
    {
     "name": "stdout",
     "output_type": "stream",
     "text": [
      "Overwriting MRWordCountFunCallMostFreqHW221.py\n"
     ]
    }
   ],
   "source": [
    "%%writefile MRWordCountFunCallMostFreqHW221.py\n",
    "from mrjob.job import MRJob\n",
    "from mrjob.job import MRStep\n",
    "import re, string\n",
    " \n",
    "class MRWordCountFunCallSorterMostFreq(MRJob):\n",
    "\n",
    "    def steps(self):\n",
    "        return [\n",
    "            MRStep(\n",
    "                mapper=self.mapper\n",
    "               ,reducer=self.reducer\n",
    "            )\n",
    "             ,MRStep(\n",
    "                 mapper=self.mapper_sort\n",
    "                ,reducer=self.reducer_sort\n",
    "            )\n",
    "        ]\n",
    "\n",
    "#MRStep 1\n",
    "    def mapper(self, _, line):\n",
    "        \n",
    "        self.increment_counter('FunctionCalls', 'Num_mapper_calls',1)\n",
    "        line = line.decode('utf8', 'ignore')\n",
    "        \n",
    "        complaint_id, complaint_type, sub_product, issue, _ = line.split(',', 4)\n",
    "\n",
    "        regex = re.compile('[%s]' % re.escape(string.punctuation))\n",
    "        issue = regex.sub(' ', issue.lower())\n",
    "        issue = re.sub( '\\s+', ' ', issue)\n",
    "\n",
    "        issue = issue.split()\n",
    "        \n",
    "        try:\n",
    "            int(complaint_id)\n",
    "        except: \n",
    "            return\n",
    "        \n",
    "        del complaint_type, sub_product, _\n",
    "\n",
    "        for word in issue:\n",
    "            yield (word, 1)\n",
    "            \n",
    "    def reducer(self, word, counts):\n",
    "        yield word, sum(counts)\n",
    "        \n",
    "#MRStep2\n",
    "    def mapper_sort(self, word, count):\n",
    "        yield ((count-1e15, word), None)\n",
    "        \n",
    "    def reducer_sort(self, countwords, _):\n",
    "        count, word = countwords\n",
    "        yield (word, int(abs(count + 1e15)))\n",
    "        \n",
    "if __name__ == '__main__':\n",
    "    MRWordCountFunCallSorterMostFreq.run()  "
   ]
  },
  {
   "cell_type": "code",
   "execution_count": 19,
   "metadata": {
    "collapsed": false
   },
   "outputs": [
    {
     "name": "stdout",
     "output_type": "stream",
     "text": [
      "1 \"loan\"\t119630\n",
      "2 \"modification\"\t70487\n",
      "3 \"credit\"\t55251\n",
      "4 \"servicing\"\t36767\n",
      "5 \"report\"\t34903\n",
      "6 \"incorrect\"\t29133\n",
      "7 \"information\"\t29069\n",
      "8 \"on\"\t29069\n",
      "9 \"or\"\t22533\n",
      "10 \"account\"\t20681\n",
      "11 \"debt\"\t19309\n",
      "12 \"and\"\t16448\n",
      "13 \"opening\"\t16205\n",
      "14 \"club\"\t12545\n",
      "15 \"health\"\t12545\n",
      "16 \"not\"\t12353\n",
      "17 \"attempts\"\t11848\n",
      "18 \"collect\"\t11848\n",
      "19 \"cont\"\t11848\n",
      "20 \"d\"\t11848\n",
      "21 \"owed\"\t11848\n",
      "22 \"of\"\t10885\n",
      "23 \"my\"\t10731\n",
      "24 \"deposits\"\t10555\n",
      "25 \"withdrawals\"\t10555\n",
      "26 \"problems\"\t9484\n",
      "27 \"application\"\t8868\n",
      "28 \"to\"\t8401\n",
      "29 \"unable\"\t8178\n",
      "30 \"billing\"\t8158\n",
      "31 \"other\"\t7886\n",
      "32 \"disputes\"\t6938\n",
      "33 \"communication\"\t6920\n",
      "34 \"tactics\"\t6920\n",
      "35 \"reporting\"\t6559\n",
      "36 \"lease\"\t6337\n",
      "37 \"the\"\t6248\n",
      "38 \"being\"\t5663\n",
      "39 \"by\"\t5663\n",
      "40 \"caused\"\t5663\n",
      "41 \"funds\"\t5663\n",
      "42 \"low\"\t5663\n",
      "43 \"process\"\t5505\n",
      "44 \"disclosure\"\t5214\n",
      "45 \"verification\"\t5214\n",
      "46 \"managing\"\t5006\n",
      "47 \"company\"\t4858\n",
      "48 \"investigation\"\t4858\n",
      "49 \"s\"\t4858\n",
      "50 \"identity\"\t4729\n"
     ]
    }
   ],
   "source": [
    "from MRWordCountFunCallMostFreqHW221 import MRWordCountFunCallSorterMostFreq\n",
    "mr_job = MRWordCountFunCallSorterMostFreq(args=['Consumer_Complaints.csv', '--jobconf=\"mapred.reduce.tasks=1\"'])\n",
    "with mr_job.make_runner() as runner: \n",
    "    runner.run()\n",
    "    counter = 1\n",
    "    for line in runner.stream_output():\n",
    "        print counter, line.strip()\n",
    "        counter += 1\n",
    "        if counter > 50:\n",
    "            break"
   ]
  },
  {
   "cell_type": "markdown",
   "metadata": {},
   "source": [
    "Present bottom 10 tokens (least frequent items). "
   ]
  },
  {
   "cell_type": "code",
   "execution_count": 6,
   "metadata": {
    "collapsed": false,
    "scrolled": true
   },
   "outputs": [
    {
     "name": "stdout",
     "output_type": "stream",
     "text": [
      "Overwriting MRWordCountFunCallLeastFreqHW221.py\n"
     ]
    }
   ],
   "source": [
    "%%writefile MRWordCountFunCallLeastFreqHW221.py\n",
    "from mrjob.job import MRJob\n",
    "from mrjob.job import MRStep\n",
    "import re, string\n",
    " \n",
    "class MRWordCountFunCallSorterLeastFreq(MRJob):\n",
    "    \n",
    "    def steps(self):\n",
    "        return [\n",
    "            MRStep(\n",
    "                mapper=self.mapper\n",
    "                ,reducer=self.reducer\n",
    "            )\n",
    "             ,MRStep(\n",
    "                 mapper=self.mapper_sort\n",
    "                ,reducer=self.reducer_sort\n",
    "            )\n",
    "        ]\n",
    "\n",
    "#MRStep 1\n",
    "    def mapper(self, _, line):\n",
    "        \n",
    "        self.increment_counter('FunctionCalls', 'Num_mapper_calls',1)\n",
    "        line = line.decode('utf8', 'ignore')\n",
    "        \n",
    "        complaint_id, complaint_type, sub_product, issue, _ = line.split(',', 4)\n",
    "\n",
    "        regex = re.compile('[%s]' % re.escape(string.punctuation))\n",
    "        issue = regex.sub(' ', issue.lower())\n",
    "        issue = re.sub( '\\s+', ' ', issue)\n",
    "\n",
    "        issue = issue.split()\n",
    "        \n",
    "        try:\n",
    "            int(complaint_id)\n",
    "        except: \n",
    "            return\n",
    "        \n",
    "        del complaint_type, sub_product, _\n",
    "\n",
    "        for word in issue:\n",
    "            yield (word, 1)\n",
    "            \n",
    "    def reducer(self, word, counts):\n",
    "        yield word, sum(counts)\n",
    "        \n",
    "# #MRStep2\n",
    "    def mapper_sort(self, word, counts):\n",
    "        new_key = '%010d'%int(counts) + word \n",
    "        yield new_key, (word, counts)\n",
    "        \n",
    "    def reducer_sort(self, new_key, values):\n",
    "        yield new_key,0\n",
    "        \n",
    "if __name__ == '__main__':\n",
    "    MRWordCountFunCallSorterLeastFreq.run()  "
   ]
  },
  {
   "cell_type": "code",
   "execution_count": 20,
   "metadata": {
    "collapsed": false,
    "scrolled": true
   },
   "outputs": [
    {
     "name": "stdout",
     "output_type": "stream",
     "text": [
      "1 ('disclosures', 64)\n",
      "2 ('missing', 64)\n",
      "3 ('amt', 71)\n",
      "4 ('day', 71)\n",
      "5 ('checks', 75)\n",
      "6 ('convenience', 75)\n",
      "7 ('credited', 92)\n",
      "8 ('payment', 92)\n",
      "9 ('amount', 98)\n",
      "10 ('apply', 118)\n"
     ]
    }
   ],
   "source": [
    "# #Ten Least Frequent\n",
    "            \n",
    "%reload_ext autoreload\n",
    "%autoreload 2\n",
    "\n",
    "from MRWordCountFunCallLeastFreqHW221 import MRWordCountFunCallSorterLeastFreq\n",
    "mr_job = MRWordCountFunCallSorterLeastFreq(args=['Consumer_Complaints.csv', '--jobconf=\"mapred.reduce.tasks=1\"'])\n",
    "with mr_job.make_runner() as runner: \n",
    "    runner.run()\n",
    "    counter = 1\n",
    "    for line in runner.stream_output():\n",
    "        keystring,dummy = line.split('\\t')\n",
    "        frequency = int(keystring[1:11])\n",
    "        word = keystring[11:-1]\n",
    "        print counter, (word, frequency)\n",
    "        counter += 1\n",
    "        if counter > 10:\n",
    "            break"
   ]
  },
  {
   "cell_type": "markdown",
   "metadata": {},
   "source": [
    "### HW2.2.2:   \n",
    "Repeat HW2.2.1 using 3 reducers. Use the same code as in HW2.2.1  with just one modification \n",
    "to the command line: just add --jobconf mapred.reduce.tasks=3 as see presented here: \n",
    "\n",
    "    python HW2.2WordCount.py --jobconf mapred.reduce.tasks=3 oneLinerTextFile.txt"
   ]
  },
  {
   "cell_type": "markdown",
   "metadata": {
    "collapsed": false
   },
   "source": [
    "Top 50 with 3 reducers"
   ]
  },
  {
   "cell_type": "code",
   "execution_count": 21,
   "metadata": {
    "collapsed": false
   },
   "outputs": [
    {
     "name": "stdout",
     "output_type": "stream",
     "text": [
      "1 \"loan\"\t119630\n",
      "2 \"modification\"\t70487\n",
      "3 \"credit\"\t55251\n",
      "4 \"servicing\"\t36767\n",
      "5 \"report\"\t34903\n",
      "6 \"incorrect\"\t29133\n",
      "7 \"information\"\t29069\n",
      "8 \"on\"\t29069\n",
      "9 \"or\"\t22533\n",
      "10 \"account\"\t20681\n",
      "11 \"debt\"\t19309\n",
      "12 \"and\"\t16448\n",
      "13 \"opening\"\t16205\n",
      "14 \"club\"\t12545\n",
      "15 \"health\"\t12545\n",
      "16 \"not\"\t12353\n",
      "17 \"attempts\"\t11848\n",
      "18 \"collect\"\t11848\n",
      "19 \"cont\"\t11848\n",
      "20 \"d\"\t11848\n",
      "21 \"owed\"\t11848\n",
      "22 \"of\"\t10885\n",
      "23 \"my\"\t10731\n",
      "24 \"deposits\"\t10555\n",
      "25 \"withdrawals\"\t10555\n",
      "26 \"problems\"\t9484\n",
      "27 \"application\"\t8868\n",
      "28 \"to\"\t8401\n",
      "29 \"unable\"\t8178\n",
      "30 \"billing\"\t8158\n",
      "31 \"other\"\t7886\n",
      "32 \"disputes\"\t6938\n",
      "33 \"communication\"\t6920\n",
      "34 \"tactics\"\t6920\n",
      "35 \"reporting\"\t6559\n",
      "36 \"lease\"\t6337\n",
      "37 \"the\"\t6248\n",
      "38 \"being\"\t5663\n",
      "39 \"by\"\t5663\n",
      "40 \"caused\"\t5663\n",
      "41 \"funds\"\t5663\n",
      "42 \"low\"\t5663\n",
      "43 \"process\"\t5505\n",
      "44 \"disclosure\"\t5214\n",
      "45 \"verification\"\t5214\n",
      "46 \"managing\"\t5006\n",
      "47 \"company\"\t4858\n",
      "48 \"investigation\"\t4858\n",
      "49 \"s\"\t4858\n",
      "50 \"identity\"\t4729\n"
     ]
    }
   ],
   "source": [
    "from MRWordCountFunCallMostFreqHW221 import MRWordCountFunCallSorterMostFreq\n",
    "mr_job = MRWordCountFunCallSorterMostFreq(args=['Consumer_Complaints.csv', '--jobconf=\"mapred.reduce.tasks=3\"'])\n",
    "with mr_job.make_runner() as runner: \n",
    "    runner.run()\n",
    "    counter = 1\n",
    "    for line in runner.stream_output():\n",
    "        print counter, line.strip()\n",
    "        counter += 1\n",
    "        if counter > 50:\n",
    "            break"
   ]
  },
  {
   "cell_type": "markdown",
   "metadata": {},
   "source": [
    "Bottom 10 with 3 reducers"
   ]
  },
  {
   "cell_type": "code",
   "execution_count": 22,
   "metadata": {
    "collapsed": false
   },
   "outputs": [
    {
     "name": "stdout",
     "output_type": "stream",
     "text": [
      "1 ('disclosures', 64)\n",
      "2 ('missing', 64)\n",
      "3 ('amt', 71)\n",
      "4 ('day', 71)\n",
      "5 ('checks', 75)\n",
      "6 ('convenience', 75)\n",
      "7 ('credited', 92)\n",
      "8 ('payment', 92)\n",
      "9 ('amount', 98)\n",
      "10 ('apply', 118)\n"
     ]
    }
   ],
   "source": [
    "# #Ten Least Frequent\n",
    "            \n",
    "%reload_ext autoreload\n",
    "%autoreload 2\n",
    "\n",
    "from MRWordCountFunCallLeastFreqHW221 import MRWordCountFunCallSorterLeastFreq\n",
    "mr_job = MRWordCountFunCallSorterLeastFreq(args=['Consumer_Complaints.csv', '--jobconf=\"mapred.reduce.tasks=3\"'])\n",
    "with mr_job.make_runner() as runner: \n",
    "    runner.run()\n",
    "    counter = 1\n",
    "    for line in runner.stream_output():\n",
    "        keystring,dummy = line.split('\\t')\n",
    "        frequency = int(keystring[1:11])\n",
    "        word = keystring[11:-1]\n",
    "        print counter, (word, frequency)\n",
    "        counter += 1\n",
    "        if counter > 10:\n",
    "            break"
   ]
  },
  {
   "cell_type": "markdown",
   "metadata": {},
   "source": [
    "#### Describe what you see. Is this correct?"
   ]
  },
  {
   "cell_type": "markdown",
   "metadata": {},
   "source": [
    "I see no difference in the output.  Running my code works the same with 1 or 3 reducers, which is to be expected."
   ]
  },
  {
   "cell_type": "markdown",
   "metadata": {},
   "source": [
    "# HW 2.2.3: \n",
    "## Optional; we will cover this in class\n",
    "\n",
    "I've already solved the \"total sort\" issue in my code above :)"
   ]
  },
  {
   "cell_type": "markdown",
   "metadata": {},
   "source": [
    "# HW2.3: Shopping Cart Analysis\n",
    "Product Recommendations: The action or practice of selling additional products or services \n",
    "to existing customers is called cross-selling. Giving product recommendation is \n",
    "one of the examples of cross-selling that are frequently used by online retailers. \n",
    "One simple method to give product recommendations is to recommend products that are frequently\n",
    "browsed together by the customers.\n",
    "  \n",
    "For this homework use the online browsing behavior dataset located at: \n",
    "\n",
    "       https://www.dropbox.com/s/zlfyiwa70poqg74/ProductPurchaseData.txt?dl=0\n",
    "\n",
    "Each line in this dataset represents a browsing session of a customer. \n",
    "On each line, each string of 8 characters represents the id of an item browsed during that session. \n",
    "The items are separated by spaces.\n",
    "\n",
    "Here are the first few lines of the ProductPurchaseData \n",
    "FRO11987 ELE17451 ELE89019 SNA90258 GRO99222 \n",
    "GRO99222 GRO12298 FRO12685 ELE91550 SNA11465 ELE26917 ELE52966 FRO90334 SNA30755 ELE17451 FRO84225 SNA80192 \n",
    "ELE17451 GRO73461 DAI22896 SNA99873 FRO86643 \n",
    "ELE17451 ELE37798 FRO86643 GRO56989 ELE23393 SNA11465 \n",
    "ELE17451 SNA69641 FRO86643 FRO78087 SNA11465 GRO39357 ELE28573 ELE11375 DAI54444 "
   ]
  },
  {
   "cell_type": "markdown",
   "metadata": {},
   "source": [
    "Pull the data from the website"
   ]
  },
  {
   "cell_type": "code",
   "execution_count": 4,
   "metadata": {
    "collapsed": false
   },
   "outputs": [
    {
     "name": "stdout",
     "output_type": "stream",
     "text": [
      "  % Total    % Received % Xferd  Average Speed   Time    Time     Time  Current\n",
      "                                 Dload  Upload   Total   Spent    Left  Speed\n",
      "  0     0    0     0    0     0      0      0 --:--:--  0:00:03 --:--:--     0\n",
      "100 3377k  100 3377k    0     0   264k      0  0:00:12  0:00:12 --:--:--  660k\n"
     ]
    }
   ],
   "source": [
    "!curl -L https://www.dropbox.com/s/zlfyiwa70poqg74/ProductPurchaseData.txt?dl=0 -o ProductPurchaseData.txt"
   ]
  },
  {
   "cell_type": "markdown",
   "metadata": {},
   "source": [
    "### Do some exploratory data analysis of this dataset guided by the following questions:"
   ]
  },
  {
   "cell_type": "markdown",
   "metadata": {},
   "source": [
    "#### Without using MapReduce... How many unique items are available from this supplier?  Assuming the full catalog has been bought within the scope of the ProductPurchaseData.txt file."
   ]
  },
  {
   "cell_type": "code",
   "execution_count": 26,
   "metadata": {
    "collapsed": false
   },
   "outputs": [
    {
     "name": "stdout",
     "output_type": "stream",
     "text": [
      "This supplier has 12,592 unique products.\n"
     ]
    }
   ],
   "source": [
    "purchasedata = open('ProductPurchaseData.txt',\"r+\")\n",
    "\n",
    "products = []\n",
    "\n",
    "for session in purchasedata:\n",
    "    prodID = session.split()\n",
    "    for product in prodID:\n",
    "        if product in products:\n",
    "            continue\n",
    "        else:\n",
    "            products.append(product)\n",
    "            \n",
    "print \"This supplier has \" + str(\"{:,}\".format(len(products))) + \" unique products.\""
   ]
  },
  {
   "cell_type": "markdown",
   "metadata": {},
   "source": [
    "# HW2.3 Part 1\n",
    "## Using a single reducer, report your findings.  Use Hadoop MapReduce on the questions below."
   ]
  },
  {
   "cell_type": "markdown",
   "metadata": {},
   "source": [
    "###### What is the number of unique products?"
   ]
  },
  {
   "cell_type": "code",
   "execution_count": 168,
   "metadata": {
    "collapsed": false
   },
   "outputs": [
    {
     "name": "stdout",
     "output_type": "stream",
     "text": [
      "Overwriting UniqueProductsHW231.py\n"
     ]
    }
   ],
   "source": [
    "%%writefile UniqueProductsHW231.py\n",
    "\n",
    "from mrjob.job import MRJob\n",
    "from mrjob.step import MRStep\n",
    "import re, string\n",
    "from collections import defaultdict\n",
    "\n",
    "\n",
    "class MRJobUniqueProducts(MRJob):\n",
    "\n",
    "    def steps(self):\n",
    "        return [\n",
    "            MRStep(\n",
    "                mapper=self.mapper,\n",
    "                reducer=self.reducer  \n",
    "            )\n",
    "        ]\n",
    "    \n",
    "    def mapper(self, _, line):\n",
    "        \n",
    "        regex = re.compile('[%s]' % re.escape(string.punctuation))\n",
    "        session = regex.sub(' ', line.lower())\n",
    "        session = re.sub( '\\s+', ' ', session)\n",
    "        session = session.split()\n",
    "        \n",
    "        for prod in session:\n",
    "            yield (len(prod), prod)\n",
    "    \n",
    "    def combiner(self, key, values):\n",
    "        yield key, sum(values)\n",
    "            \n",
    "    def reducer(self, key, values):\n",
    "        yield \"Number Unique Products\", len(set(values))\n",
    "\n",
    "if __name__ == '__main__':\n",
    "    MRJobUniqueProducts.run()"
   ]
  },
  {
   "cell_type": "code",
   "execution_count": 169,
   "metadata": {
    "collapsed": false
   },
   "outputs": [
    {
     "name": "stdout",
     "output_type": "stream",
     "text": [
      "\"Number Unique Products\"\t12592\n"
     ]
    }
   ],
   "source": [
    "%reload_ext autoreload\n",
    "%autoreload 2\n",
    "\n",
    "from UniqueProductsHW231 import MRJobUniqueProducts\n",
    "\n",
    "mr_job = MRJobUniqueProducts(args=['ProductPurchaseData.txt', '--jobconf=\"mapred.reduce.tasks=1\"']) \n",
    "with mr_job.make_runner() as runner: \n",
    "    runner.run()\n",
    "    for line in runner.stream_output():\n",
    "        print line.strip()"
   ]
  },
  {
   "cell_type": "markdown",
   "metadata": {},
   "source": [
    "This matches the number from above, so I know this is correct."
   ]
  },
  {
   "cell_type": "markdown",
   "metadata": {},
   "source": [
    "###### What is the largest basket?"
   ]
  },
  {
   "cell_type": "code",
   "execution_count": 193,
   "metadata": {
    "collapsed": false
   },
   "outputs": [
    {
     "name": "stdout",
     "output_type": "stream",
     "text": [
      "Overwriting LargestBasketHW231.py\n"
     ]
    }
   ],
   "source": [
    "%%writefile LargestBasketHW231.py\n",
    "\n",
    "from mrjob.job import MRJob\n",
    "from mrjob.step import MRStep\n",
    "import re, string\n",
    "\n",
    "class LargestBasket(MRJob):\n",
    "    \n",
    "    def steps(self):\n",
    "        return [\n",
    "            MRStep(\n",
    "                mapper=self.mapper\n",
    "            ),\n",
    "            MRStep(\n",
    "                mapper=self.mapper_sort,\n",
    "                reducer=self.reducer_sort\n",
    "            )\n",
    "        ]\n",
    "    \n",
    "    def mapper(self, _, line):\n",
    "\n",
    "        regex = re.compile('[%s]' % re.escape(string.punctuation))\n",
    "        session = regex.sub(' ', line.lower())\n",
    "        session = re.sub( '\\s+', ' ', session)\n",
    "        session = session.split()\n",
    "        basket_size = len(session)\n",
    "\n",
    "        yield (\"Dummy\", basket_size)\n",
    "        \n",
    "    def mapper_sort(self, basket, basket_size):\n",
    "        yield ((basket_size-1e15, basket), None)\n",
    "    \n",
    "    def reducer_sort(self, sizebasket, _):\n",
    "        size, basket = sizebasket\n",
    "        yield \"Largest Basket Size\", int(abs(size + 1e15))\n",
    "        \n",
    "if __name__ == '__main__':\n",
    "    LargestBasket.run()"
   ]
  },
  {
   "cell_type": "code",
   "execution_count": 194,
   "metadata": {
    "collapsed": false
   },
   "outputs": [
    {
     "name": "stdout",
     "output_type": "stream",
     "text": [
      "\"Largest Basket Size\"\t37\n"
     ]
    }
   ],
   "source": [
    "%reload_ext autoreload\n",
    "%autoreload 2\n",
    "\n",
    "from LargestBasketHW231 import LargestBasket\n",
    "mr_job = LargestBasket(args=['ProductPurchaseData.txt', '--jobconf=\"mapred.reduce.tasks=1\"']) \n",
    "with mr_job.make_runner() as runner: \n",
    "    runner.run()\n",
    "    count = 0\n",
    "    for line in runner.stream_output():\n",
    "        print line.strip()\n",
    "        count += 1\n",
    "        if count > 0:\n",
    "            break"
   ]
  },
  {
   "cell_type": "code",
   "execution_count": 195,
   "metadata": {
    "collapsed": false
   },
   "outputs": [
    {
     "ename": "SyntaxError",
     "evalue": "invalid syntax (<ipython-input-195-09fdab96b2d9>, line 1)",
     "output_type": "error",
     "traceback": [
      "\u001b[0;36m  File \u001b[0;32m\"<ipython-input-195-09fdab96b2d9>\"\u001b[0;36m, line \u001b[0;32m1\u001b[0m\n\u001b[0;31m    Everything above here is done.  Everything below needs rewritten.\u001b[0m\n\u001b[0m                   ^\u001b[0m\n\u001b[0;31mSyntaxError\u001b[0m\u001b[0;31m:\u001b[0m invalid syntax\n"
     ]
    }
   ],
   "source": [
    "Everything above here is done.  Everything below needs rewritten."
   ]
  },
  {
   "cell_type": "markdown",
   "metadata": {},
   "source": [
    "###### What are the top 50 most frequently purchased items and their frequency?  (Break ties by sorting products alphabetically."
   ]
  },
  {
   "cell_type": "code",
   "execution_count": 28,
   "metadata": {
    "collapsed": false
   },
   "outputs": [
    {
     "ename": "NameError",
     "evalue": "name 'Answer' is not defined",
     "output_type": "error",
     "traceback": [
      "\u001b[0;31m---------------------------------------------------------------------------\u001b[0m",
      "\u001b[0;31mNameError\u001b[0m                                 Traceback (most recent call last)",
      "\u001b[0;32m<ipython-input-28-2d1ec0da3799>\u001b[0m in \u001b[0;36m<module>\u001b[0;34m()\u001b[0m\n\u001b[0;32m----> 1\u001b[0;31m \u001b[0mAnswer\u001b[0m\u001b[0;34m\u001b[0m\u001b[0m\n\u001b[0m",
      "\u001b[0;31mNameError\u001b[0m: name 'Answer' is not defined"
     ]
    }
   ],
   "source": [
    "%%writefile shopping_top_50.py\n",
    "\n",
    "from __future__ import absolute_import\n",
    "from __future__ import division\n",
    "from __future__ import print_function\n",
    "from __future__ import unicode_literals\n",
    "from mrjob.job import MRJob\n",
    "from mrjob.step import MRStep\n",
    "import re, string\n",
    "\n",
    "class ShoppingTop50(MRJob):\n",
    "    \n",
    "    def steps(self):\n",
    "        return [\n",
    "            MRStep(\n",
    "                mapper=self.mapper,\n",
    "                combiner=self.combiner,\n",
    "                reducer=self.reducer\n",
    "            ),\n",
    "            MRStep(\n",
    "                mapper=self.mapper_sort,\n",
    "                reducer=self.reducer_sort\n",
    "            )\n",
    "        ]\n",
    "    \n",
    "    def mapper(self, _, line):\n",
    "        \n",
    "        # Creates regular expression to modify punctuation characters so that they will not mess up regex\n",
    "        regex = re.compile('[%s]' % re.escape(string.punctuation))\n",
    "        # Uses the regex above to replace puctuation with a ' ' and puts all words in lower case\n",
    "        basket = regex.sub(' ', line.lower())\n",
    "        # Converts all white space that is not a ' ' into a ' ', including duplicate spaces\n",
    "        basket = re.sub( '\\s+', ' ', basket)\n",
    "        \n",
    "        # Creates a list of items in each basket\n",
    "        basket = basket.split()\n",
    "        \n",
    "        for item in basket:\n",
    "            yield (item, 1)\n",
    "            \n",
    "    def combiner(self, item, counts):\n",
    "        yield (item, sum(counts))\n",
    "        \n",
    "    def reducer(self, item, counts):\n",
    "        count = sum(counts)\n",
    "        yield (item, count)\n",
    "        \n",
    "    def mapper_sort(self, word, count):\n",
    "        # take a (very) large number and minus the count to \n",
    "        # reverse the way MapReduce normally sorts (smallest to largest)\n",
    "        value = 1e6 - count\n",
    "        yield ((value, word), None)\n",
    "        \n",
    "    def reducer_sort(self, value_word, _):\n",
    "        # this is taking care of ties. Map reduce will order on word second if there is a tie. \n",
    "        value, word = value_word\n",
    "        yield (word, int(abs(value - 1e6)))\n",
    "\n",
    "if __name__ == '__main__':\n",
    "    ShoppingTop50.run()"
   ]
  },
  {
   "cell_type": "code",
   "execution_count": null,
   "metadata": {
    "collapsed": true
   },
   "outputs": [],
   "source": [
    "%reload_ext autoreload\n",
    "%autoreload 2\n",
    "\n",
    "from shopping_top_50 import ShoppingTop50\n",
    "mr_job = ShoppingTop50(args=['ProductPurchaseData.txt', '--jobconf=\"mapred.reduce.tasks=1\"'])\n",
    "with mr_job.make_runner() as runner: \n",
    "    runner.run()\n",
    "    count = 0\n",
    "    for line in runner.stream_output():\n",
    "        print(line.strip())\n",
    "        count += 1\n",
    "        if count > 49:\n",
    "            break"
   ]
  },
  {
   "cell_type": "markdown",
   "metadata": {},
   "source": [
    "# HW2.3.1 OPTIONAL \n",
    "Using 2 reducers:  Report your findings such as number of unique products; largest basket; report the top 50 most frequently purchased items,  their frequency,  and their relative frequency (break ties by sorting the products alphabetical order) etc. using Hadoop Map-Reduce. "
   ]
  },
  {
   "cell_type": "code",
   "execution_count": 10,
   "metadata": {
    "collapsed": false
   },
   "outputs": [
    {
     "ename": "SyntaxError",
     "evalue": "invalid syntax (<ipython-input-10-934980e76688>, line 1)",
     "output_type": "error",
     "traceback": [
      "\u001b[0;36m  File \u001b[0;32m\"<ipython-input-10-934980e76688>\"\u001b[0;36m, line \u001b[0;32m1\u001b[0m\n\u001b[0;31m    HW2.3.1 answer here\u001b[0m\n\u001b[0m        ^\u001b[0m\n\u001b[0;31mSyntaxError\u001b[0m\u001b[0;31m:\u001b[0m invalid syntax\n"
     ]
    }
   ],
   "source": [
    "# Unique Items:\n",
    "\n",
    "%reload_ext autoreload\n",
    "%autoreload 2\n",
    "\n",
    "from shopping_unique import ShoppingUnique\n",
    "\n",
    "mr_job = ShoppingUnique(args=['ProductPurchaseData.txt', '--jobconf=\"mapred.reduce.tasks=2\"']) \n",
    "with mr_job.make_runner() as runner: \n",
    "    runner.run()\n",
    "    print runner.counters()"
   ]
  },
  {
   "cell_type": "code",
   "execution_count": null,
   "metadata": {
    "collapsed": true
   },
   "outputs": [],
   "source": [
    "# Largest basket size:\n",
    "\n",
    "%reload_ext autoreload\n",
    "%autoreload 2\n",
    "\n",
    "from shopping_largest_basket import ShoppingLargestBasket\n",
    "mr_job = ShoppingLargestBasket(args=['ProductPurchaseData.txt', '--jobconf=\"mapred.reduce.tasks=2\"']) \n",
    "with mr_job.make_runner() as runner: \n",
    "    runner.run()\n",
    "    count = 0\n",
    "    for line in runner.stream_output():\n",
    "        print(line.strip())\n",
    "        count += 1\n",
    "        # Stop after providing the biggest basket\n",
    "        if count > 0:\n",
    "            break"
   ]
  },
  {
   "cell_type": "code",
   "execution_count": null,
   "metadata": {
    "collapsed": true
   },
   "outputs": [],
   "source": [
    "# Top 50 items purchased:\n",
    "\n",
    "%reload_ext autoreload\n",
    "%autoreload 2\n",
    "\n",
    "from shopping_top_50 import ShoppingTop50\n",
    "mr_job = ShoppingTop50(args=['ProductPurchaseData.txt', '--jobconf=\"mapred.reduce.tasks=2\"']) \n",
    "with mr_job.make_runner() as runner: \n",
    "    runner.run()\n",
    "    count = 0\n",
    "    for line in runner.stream_output():\n",
    "        print(line.strip())\n",
    "        count += 1\n",
    "        if count > 49:\n",
    "            break"
   ]
  },
  {
   "cell_type": "markdown",
   "metadata": {},
   "source": [
    "# HW2.4. \n",
    "## (Computationally prohibitive but then again Hadoop can handle this) Pairs\n",
    "\n",
    "From a data mining perspective (and the aPriori algorihtm in particular), Support and Confidence are defined as follows:\n",
    "\n",
    "       SUPPORT\n",
    "       In data mining, the support value of X (where X is a collection of cooccurring items sometimes referred to as \n",
    "       an item-set. E.g., a basket or subset of a basket) with respect to T  (a transaction database where each \n",
    "       row is a transaction such as a basket of items that have been purchased)  is defined as the proportion \n",
    "       of transactions in the  database which contains  the item-set X. (a relative frequency of sorts) \n",
    "\n",
    "       CONFIDENCE \n",
    "       The confidence value of a rule, X ==>  Y (where X is a collection of cooccurring items and Y is generally \n",
    "       a single item. E.g., If Diapers and Beer then Cigars were also purchased), with respect to a set of transactions T, is the \n",
    "       proportion of the transactions that contains X which also contains Y. (Think of it as  tgePr(Y|X) )\n",
    "\n",
    "       The pairs/stripes algorithm returns cooccurrence information that can be used directly to  calculate the confidence and support. \n",
    "       Note that confidence for pair X ==>  Y will  differ from the relative frequency that results from stripes when X occurs by itself in transactions.\n",
    "\n",
    "\n",
    "Suppose we want to recommend new products to the customer based on the products they\n",
    "have already browsed on the online website. Write a map-reduce program \n",
    "to find products which are frequently browsed together. Fix the support count (cooccurence count) to s = 100 \n",
    "(i.e. product pairs need to occur together at least 100 times to be considered frequent) \n",
    "and find pairs of items (sometimes referred to itemsets of size 2 in association rule mining) that have a support count of 100 or more.\n",
    "\n",
    "List the top 50 product pairs with corresponding support count (aka frequency), and relative frequency or support (number of records where they coccur, the number of records where they coccur/the number of baskets in the dataset)  in decreasing order of support  for frequent (100>count) itemsets of size 2. \n",
    "\n",
    "Use the Pairs pattern  to  extract these frequent itemsets of size 2. Free free to use combiners if they bring value. Instrument your code with counters for count the number of times your mapper, combiner and reducers are called.  \n",
    "\n",
    "Please output records of the following form for the top 50 pairs (itemsets of size 2): \n",
    "\n",
    "      item1, item2, support count, support  (OPTIONAL Feel free to add in confidence level also)\n",
    "\n",
    "\n",
    "\n",
    "Fix the ordering of the pairs lexicographically (left to right), \n",
    "and break ties in support (between pairs, if any exist) \n",
    "by taking the first ones in lexicographically increasing order. \n",
    "\n",
    "Report  the compute time for the Pairs job. Describe the computational setup used (E.g., single computer; dual core; linux, number of mappers, number of reducers)\n",
    "Instrument your mapper, combiner, and reducer to count how many times each is called using Counters and report these counts.\n",
    "\n",
    "\n"
   ]
  },
  {
   "cell_type": "markdown",
   "metadata": {},
   "source": [
    "# HW2.5: \n",
    "## Stripes\n",
    "Repeat 2.4 using the stripes design pattern for finding cooccuring pairs (and out.\n",
    "\n",
    "Report  the compute times for stripes job versus the Pairs job. Describe the computational setup used (E.g., single computer; dual core; linux, number of mappers, number of reducers)\n",
    "\n",
    "Instrument your mapper, combiner, and reducer to count how many times each is called using Counters and report these counts. Discuss the differences in these counts between the Pairs and Stripes jobs\n"
   ]
  },
  {
   "cell_type": "markdown",
   "metadata": {},
   "source": [
    "# HW2.6 (OPTIONAL)\n",
    "## KMeans Clustering Tweet Dataset\n",
    "\n",
    "For this problem, please refer to and borrow from the following notebook:\n",
    "\n",
    "   http://nbviewer.jupyter.org/urls/dl.dropbox.com/s/dcw8evd9v0su3xu/K_Means_Unit_Test_Notebook.ipynb\n",
    "\n",
    "\n",
    "Here you will use a different dataset consisting of word-frequency distributions \n",
    "for 1,000 Twitter users. These Twitter users use language in very different ways,\n",
    "and were classified by hand according to the criteria:\n",
    "\n",
    "0: Human, where only basic human-human communication is observed.\n",
    "\n",
    "1: Cyborg, where language is primarily borrowed from other sources\n",
    "(e.g., jobs listings, classifieds postings, advertisements, etc...).\n",
    "\n",
    "2: Robot, where language is formulaically derived from unrelated sources\n",
    "(e.g., weather/seismology, police/fire event logs, etc...).\n",
    "\n",
    "3: Spammer, where language is replicated to high multiplicity\n",
    "(e.g., celebrity obsessions, personal promotion, etc... )\n",
    "\n",
    "Check out the preprints of  recent research,\n",
    "which spawned this dataset:\n",
    "\n",
    "http://arxiv.org/abs/1505.04342\n",
    "http://arxiv.org/abs/1508.01843\n",
    "\n",
    "The main data lie in the accompanying file:\n",
    "\n",
    "topUsers_Apr-Jul_2014_1000-words.txt located at:\n",
    "        https://www.dropbox.com/s/6129k2urvbvobkr/topUsers_Apr-Jul_2014_1000-words.txt?dl=0\n",
    "\n",
    "and are of the form:\n",
    "\n",
    "USERID,CODE,TOTAL,WORD1_COUNT,WORD2_COUNT,...\n",
    ".\n",
    ".\n",
    "\n",
    "where\n",
    "\n",
    "USERID = unique user identifier\n",
    "CODE = 0/1/2/3 class code\n",
    "TOTAL = sum of the word counts\n",
    "\n",
    "Using this data, you will implement a 1000-dimensional K-means algorithm in MrJob on the users\n",
    "by their 1000-dimensional word stripes/vectors using several \n",
    "centroid initializations and values of K.\n",
    "\n",
    "Note that each \"point\" is a user as represented by 1000 words, and that\n",
    "word-frequency distributions are generally heavy-tailed power-laws\n",
    "(often called Zipf distributions), and are very rare in the larger class\n",
    "of discrete, random distributions. For each user you will have to normalize\n",
    "by its \"TOTAL\" column. Try several parameterizations and initializations:\n",
    "\n",
    "(A) K=4 uniform random centroid-distributions over the 1000 words (generate 1000 random numbers and normalize the vectors)\n",
    "(B) K=2 perturbation-centroids, randomly perturbed from the aggregated (user-wide) distribution \n",
    "(C) K=4 perturbation-centroids, randomly perturbed from the aggregated (user-wide) distribution \n",
    "(D) K=4 \"trained\" centroids, determined by the sums across the classes. Use use the \n",
    "(row-normalized) class-level aggregates as 'trained' starting centroids (i.e., the training is already done for you!).\n",
    "Note that you do not have to compute the aggregated distribution or the \n",
    "class-aggregated distributions, which are rows in the auxiliary file:\n",
    "\n",
    "topUsers_Apr-Jul_2014_1000-words_summaries.txt located at:\n",
    "   https://www.dropbox.com/s/w4oklbsoqefou3b/topUsers_Apr-Jul_2014_1000-words_summaries.txt?dl=0\n",
    "\n",
    "\n",
    "Row 1: Words\n",
    "Row 2: Aggregated distribution across all classes\n",
    "Row 3-6 class-aggregated distributions for clases 0-3\n",
    "For (A),  we select 4 users randomly from a uniform distribution [1,...,1,000]\n",
    "For (B), (C), and (D)  you will have to use data from the auxiliary file: \n",
    "\n",
    "topUsers_Apr-Jul_2014_1000-words_summaries.txt\n",
    "\n",
    "This file contains 5 special word-frequency distributions:\n",
    "\n",
    "(1) The 1000-user-wide aggregate, which you will perturb for initializations\n",
    "in parts (B) and (C), and\n",
    "\n",
    "(2-5) The 4 class-level aggregates for each of the user-type classes (0/1/2/3)\n",
    "\n",
    "\n",
    "In parts (B) and (C), you will have to perturb the 1000-user aggregate \n",
    "(after initially normalizing by its sum, which is also provided).\n",
    "So if in (B) you want to create 2 perturbations of the aggregate, start\n",
    "with (1), normalize, and generate 1000 random numbers uniformly \n",
    "from the unit interval (0,1) twice (for two centroids), using:\n",
    "\n",
    "from numpy import random\n",
    "numbers = random.sample(1000)\n",
    "\n",
    "Take these 1000 numbers and add them (component-wise) to the 1000-user aggregate,\n",
    "and then renormalize to obtain one of your aggregate-perturbed initial centroids.\n",
    "\n",
    "\n",
    "###################################################################################\n",
    "## Geneate random initial centroids around the global aggregate\n",
    "## Part (B) and (C) of this question\n",
    "###################################################################################\n",
    "def startCentroidsBC(k):\n",
    "    counter = 0\n",
    "    for line in open(\"topUsers_Apr-Jul_2014_1000-words_summaries.txt\").readlines():\n",
    "        if counter == 2:        \n",
    "            data = re.split(\",\",line)\n",
    "            globalAggregate = [float(data[i+3])/float(data[2]) for i in range(1000)]\n",
    "        counter += 1\n",
    "    ## perturb the global aggregate for the four initializations    \n",
    "    centroids = []\n",
    "    for i in range(k):\n",
    "        rndpoints = random.sample(1000)\n",
    "        peturpoints = [rndpoints[n]/10+globalAggregate[n] for n in range(1000)]\n",
    "        centroids.append(peturpoints)\n",
    "        total = 0\n",
    "        for j in range(len(centroids[i])):\n",
    "            total += centroids[i][j]\n",
    "        for j in range(len(centroids[i])):\n",
    "            centroids[i][j] = centroids[i][j]/total\n",
    "    return centroids\n",
    "\n",
    "\n",
    "\n",
    "——\n",
    "For experiments A, B, C and D and iterate until a threshold (try 0.001) is reached.\n",
    "After convergence, print out a summary of the classes present in each cluster.\n",
    "In particular, report the composition as measured by the total\n",
    "portion of each class type (0-3) contained in each cluster,\n",
    "and discuss your findings and any differences in outcomes across parts A-D.\n"
   ]
  },
  {
   "cell_type": "markdown",
   "metadata": {},
   "source": [
    "# HW 2.7: (OPTIONAL)    \n",
    "## Logfile clean up\n",
    "\n",
    "This exercise workes  Microsoft logfiles data. The logfiles are described are located at:\n",
    "\n",
    "https://kdd.ics.uci.edu/databases/msweb/msweb.html\n",
    "http://archive.ics.uci.edu/ml/machine-learning-databases/anonymous/\n",
    "\n",
    "This dataset records which areas/pages (Vroots) of www.microsoft.com each user visited in a one-week timeframe in Feburary 1998.\n",
    "\n",
    " Here, you must preprocess the data on a single node (i.e., not on a cluster of nodes) from the format:\n",
    "\n",
    "C,\"10001\",10001   #Visitor id 10001\n",
    "V,1000,1          #Visit by Visitor 10001 to page id 1000\n",
    "V,1001,1          #Visit by Visitor 10001 to page id 1001\n",
    "V,1002,1          #Visit by Visitor 10001 to page id 1002\n",
    "C,\"10002\",10002   #Visitor id 10001\n",
    "V\n",
    "Note: #denotes comments\n",
    "to the format:\n",
    "\n",
    "V,1000,1,C, 10001\n",
    "V,1001,1,C, 10001\n",
    "V,1002,1,C, 10001\n",
    "\n",
    "Write the python code to accomplish this. \n",
    "\n"
   ]
  },
  {
   "cell_type": "markdown",
   "metadata": {},
   "source": [
    "# HW2.7.1  (OPTIONAL)  \n",
    "## Explain you can not do this  clean up on one machine."
   ]
  },
  {
   "cell_type": "markdown",
   "metadata": {},
   "source": [
    "# HW 2.8 (OPTIONAL)  \n",
    "## Find the 5 most frequently visited pages\n",
    "\n",
    "Find the 5 most frequently visited pages using MrJob from the output of HW2.7 (i.e., transfromed log file).\n",
    "\n",
    "WARNING: per-step jobconf has bugs that affect Total sorts/partitions etc.\n",
    "For MRJob,  Sort, partition code via the MRJob config does NOT work in local mode (known bug/feature which I believe has not been fixed as of June 2016). \n",
    "So you will need to run in the cloud (e.g.  in AWS).\n",
    "It's issue #616 in github:  \"Inline and Local modes should support per-step jobconf #616\".  https://github.com/Yelp/mrjob/issues/616\n",
    "To overcome this issue run your MRJob jobs on the cloud using -r hadoop or -r emr:\n",
    "\n",
    "       #!python MostFrequentVisits.py -r hadoop anonymous-msweb_converted.data"
   ]
  },
  {
   "cell_type": "code",
   "execution_count": null,
   "metadata": {
    "collapsed": true
   },
   "outputs": [],
   "source": []
  }
 ],
 "metadata": {
  "kernelspec": {
   "display_name": "Python 2",
   "language": "python",
   "name": "python2"
  },
  "language_info": {
   "codemirror_mode": {
    "name": "ipython",
    "version": 2
   },
   "file_extension": ".py",
   "mimetype": "text/x-python",
   "name": "python",
   "nbconvert_exporter": "python",
   "pygments_lexer": "ipython2",
   "version": "2.7.11"
  }
 },
 "nbformat": 4,
 "nbformat_minor": 0
}
